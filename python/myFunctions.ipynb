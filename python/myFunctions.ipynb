{
 "cells": [
  {
   "cell_type": "code",
   "execution_count": 39,
   "id": "966a715e",
   "metadata": {},
   "outputs": [],
   "source": [
    "%matplotlib inline\n",
    "from sklearn.cluster import KMeans\n",
    "from sklearn.preprocessing import scale\n",
    "from mpl_toolkits.mplot3d import Axes3D\n",
    "import pandas as pd\n",
    "import matplotlib.pyplot as plt\n",
    "import numpy as np\n",
    "import inspect\n",
    "import warnings\n",
    "warnings.filterwarnings(\"ignore\")\n",
    "from sklearn.decomposition import PCA\n",
    "import seaborn as sns\n",
    "sns.set()\n",
    "from sklearn.preprocessing import StandardScaler"
   ]
  },
  {
   "cell_type": "code",
   "execution_count": 7,
   "id": "1d1cda04",
   "metadata": {},
   "outputs": [],
   "source": [
    "pd.options.display.float_format = \"{:,.2f}\".format\n",
    "np.set_printoptions(suppress=True)\n",
    "color_theme = np.array(['darkgray','lightsalmon','powderblue','black','purple','green'])\n",
    "#plt.ticklabel_format(style='plain');"
   ]
  },
  {
   "cell_type": "code",
   "execution_count": 38,
   "id": "c1066b21",
   "metadata": {},
   "outputs": [],
   "source": [
    "# # read data from the csv\n",
    "# april_df = pd.read_csv('april_df2.csv', index_col = False)\n",
    "\n",
    "# # drop the unnecessary index column\n",
    "# april_df.drop('Unnamed: 0', axis=1, inplace=True)"
   ]
  },
  {
   "cell_type": "code",
   "execution_count": 8,
   "id": "5eef8cb6",
   "metadata": {},
   "outputs": [],
   "source": [
    "def elbow_plot(min_cluster,max_cluster,scaled_data):\n",
    "    inertia = []\n",
    "    for n_clusters in range(min_cluster,max_cluster):\n",
    "        kmeans = KMeans(n_clusters=n_clusters, init='k-means++', random_state=10).fit(scaled_data).inertia_\n",
    "        #inertia.append(kmeans/n_clusters )\n",
    "        inertia.append(kmeans)\n",
    "    inertias = pd.DataFrame({'n_clusters': range(min_cluster,max_cluster), 'inertia': inertia})\n",
    "    ax = inertias.plot(x = 'n_clusters', y = 'inertia')\n",
    "    plt.ylabel('Average Within Cluster Sq Distance')\n",
    "    plt.ticklabel_format(style='plain');\n",
    "    plt.show();"
   ]
  },
  {
   "cell_type": "code",
   "execution_count": 9,
   "id": "78b5744f",
   "metadata": {},
   "outputs": [],
   "source": [
    "def histogram_printing(df,column,bins,ylim_list=[0,0],xlim_list=[0,0]): \n",
    "    plt.hist(df[column],bins = bins);\n",
    "    if ylim_list != [0,0]:\n",
    "        plt.ylim(ylim_list);\n",
    "    if xlim_list != [0,0]:    \n",
    "        plt.xlim(xlim_list);\n",
    "    plt.xlabel(column);\n",
    "    plt.ticklabel_format(style='plain');\n",
    "    plt.show();"
   ]
  },
  {
   "cell_type": "code",
   "execution_count": 10,
   "id": "5d545dc2",
   "metadata": {},
   "outputs": [],
   "source": [
    "def transforming_columns(df,col_list):\n",
    "    df[col_list] = df[col_list].apply(pd.to_numeric)\n",
    "    for i in col_list:\n",
    "        df['log_transform_{}'.format(i)] = np.log(df[i])\n",
    "    return df"
   ]
  },
  {
   "cell_type": "code",
   "execution_count": 11,
   "id": "0b28350b",
   "metadata": {},
   "outputs": [],
   "source": [
    "def scatter_plot(df,xcolumn,ycolumn):\n",
    "    plt.scatter(df[xcolumn],df[ycolumn]);\n",
    "    plt.ylabel(ycolumn);\n",
    "    plt.xlabel(xcolumn);\n",
    "    plt.ticklabel_format(style='plain');\n",
    "    plt.show();"
   ]
  },
  {
   "cell_type": "code",
   "execution_count": 12,
   "id": "be102ab5",
   "metadata": {},
   "outputs": [],
   "source": [
    "# rewrite this to create new columns with the scaled data\n",
    "def scale_(df_with_columns):\n",
    "    x = scale(df_with_columns)\n",
    "    return x"
   ]
  },
  {
   "cell_type": "code",
   "execution_count": 13,
   "id": "d08bd81c",
   "metadata": {},
   "outputs": [],
   "source": [
    "def clustering(df,cluster_amounts,scaled_data):\n",
    "    for i in cluster_amounts:\n",
    "        clustering = KMeans(n_clusters=i, init='k-means++', random_state=10)\n",
    "        clustering.fit(scaled_data)\n",
    "        # putting the cluster values into the dataframe raw (i.e. 0,1,2,3)\n",
    "        df['kmeans_{}'.format(i)] = clustering.labels_\n",
    "        df['kmeans_{}_color'.format(i)] = color_theme[clustering.labels_]\n",
    "    return df"
   ]
  },
  {
   "cell_type": "code",
   "execution_count": 14,
   "id": "d7070cf6",
   "metadata": {},
   "outputs": [],
   "source": [
    "def cluster_scatter(df,xcolumn,ycolumn,cluster_value):\n",
    "    for i in cluster_value:\n",
    "        f = plt.figure(figsize=(10,7))\n",
    "        ax = f.add_subplot(221)\n",
    "        ax2 = f.add_subplot(222)\n",
    "        #print('Scatter plot on {} clustering\\n'.format(i))\n",
    "        #plt.scatter(x=df[column1],y=df[column2], c=color_theme[df['kmeans_{}'.format(i)]]);\n",
    "        ax.scatter(x=df[xcolumn],y=df[ycolumn], c=df['kmeans_{}_color'.format(i)]);\n",
    "        #ax.ylabel(ycolumn);\n",
    "        ax.set_ylabel(ycolumn);\n",
    "        ax.set_xlabel(xcolumn);\n",
    "        #ax.xlabel(xcolumn);\n",
    "        ax.ticklabel_format(style='plain');\n",
    "        ax.title.set_text('Scatter plot on {} clustering\\n'.format(i));\n",
    "        #ax.show(); \n",
    "        for j in range(0,i):\n",
    "            ax2.hist(x=df[df['kmeans_{}_color'.format(i)]==color_theme[j]][xcolumn],color = color_theme[j],bins = 200);\n",
    "            ax2.set_xlabel(xcolumn);\n",
    "            ax2.title.set_text('Histogram on {} clustering\\n'.format(i));\n",
    "        #ax2.show();"
   ]
  },
  {
   "cell_type": "code",
   "execution_count": 15,
   "id": "6d86a96d",
   "metadata": {},
   "outputs": [],
   "source": [
    "def description(df,column,cluster_value):\n",
    "    #print(column)\n",
    "    #temp = df.groupby('kmeans_{}_color'.format(cluster_value))[column].describe()\n",
    "    temp_main = pd.DataFrame()\n",
    "    for i in column:\n",
    "        temp1 = df.groupby('kmeans_{}_color'.format(cluster_value))[i].describe()\n",
    "        temp1 = temp1.assign( index = df.groupby('kmeans_{}_color'.format(cluster_value))[i].mean() / df[i].mean(),\n",
    "                              percent =  temp1['count'] / sum(temp1['count']) * 100,\n",
    "                              variable = i)\n",
    "        temp_main = temp_main.append(temp1)\n",
    "    return temp_main.sort_values(['variable','mean'])"
   ]
  },
  {
   "cell_type": "code",
   "execution_count": 16,
   "id": "33838de7",
   "metadata": {},
   "outputs": [],
   "source": [
    "def description_ver2(df,column,cluster_value):\n",
    "    #print(column)\n",
    "    #temp = df.groupby('kmeans_{}_color'.format(cluster_value))[column].describe()\n",
    "    temp_main = pd.DataFrame()\n",
    "    for i in column:\n",
    "        temp1 = df.groupby('kmeans_{}_color'.format(cluster_value))[i].describe()\n",
    "        temp1 = temp1.assign( index = df.groupby('kmeans_{}_color'.format(cluster_value))[i].mean() / df[i].mean(),\n",
    "                              percent =  temp1['count'] / sum(temp1['count']) * 100,\n",
    "                              variable = i )\n",
    "        temp_main = temp_main.append(temp1)\n",
    "    temp_main['cluster'] = temp_main.index\n",
    "    #return temp_main.sort_values(['variable','mean'])\n",
    "    return temp_main.sort_values(['percent','cluster','variable'])"
   ]
  },
  {
   "cell_type": "code",
   "execution_count": 17,
   "id": "c9bedcb1",
   "metadata": {},
   "outputs": [],
   "source": [
    "def boxplot(df,column):\n",
    "    bp = plt.boxplot(df[column])\n",
    "    whiskers = [whiskers.get_ydata() for whiskers in bp[\"whiskers\"]]\n",
    "    #plt.ticklabel_format(style='plain');\n",
    "    print(df[df[column] < whiskers[0][1]][column].count(),' users are below the lower bound value of ' , whiskers[0][1])\n",
    "    print(df[df[column] > whiskers[1][1]][column].count(),' users are above the upper bound value of ' , whiskers[1][1])"
   ]
  },
  {
   "cell_type": "code",
   "execution_count": 18,
   "id": "5b59c33d",
   "metadata": {},
   "outputs": [],
   "source": [
    "# def export_clusters(fname, *args):\n",
    "#     frames1 = [item for item in args]\n",
    "#     with open(fname, mode='a+') as f:\n",
    "#         for df in frames1:\n",
    "#             df.to_csv(fname, mode='a', header = f.tell() == 0)\n",
    "#             f.write('\\n')\n",
    "# def export_clusters(fname, column, *args):\n",
    "#     frames1 = [item for item in args]\n",
    "#     with open(fname, mode='a+') as f:\n",
    "#         for df in frames1:\n",
    "#             f.write(column)\n",
    "#             df.to_csv(fname, mode='a', header = f.tell() == 0)\n",
    "#             f.write('\\n')\n",
    "            \n",
    "def export_clusters(fname, column, *args):\n",
    "    frames1 = [item for item in args]\n",
    "    with open(fname, mode='a+') as f:\n",
    "        for df in frames1:\n",
    "            f.write('\\n')\n",
    "            f.write(column)\n",
    "            f.write('\\n')\n",
    "            df.to_csv(fname, mode='a', header = f.tell() == 0)\n",
    "            f.write('\\n')"
   ]
  },
  {
   "cell_type": "code",
   "execution_count": 19,
   "id": "8b5b1b69",
   "metadata": {},
   "outputs": [],
   "source": [
    "# # practice df\n",
    "# df = pd.DataFrame(columns=['aa','b','c','d'], index=['x','y','z','m','n','o','p','h','v','xx','yy','zz','mm','nn','oo','pp','hh','vv'])\n",
    "# df.loc['x'] = pd.Series({'aa':1, 'b':5, 'c':2, 'd':3})\n",
    "# df.loc['y'] = pd.Series({'aa':45, 'b':35, 'c':21, 'd':23})\n",
    "# df.loc['z'] = pd.Series({'aa':10, 'b':59, 'c':22, 'd':544})\n",
    "# df.loc['m'] = pd.Series({'aa':18, 'b':559, 'c':232, 'd':774})\n",
    "# df.loc['n'] = pd.Series({'aa':15, 'b':59, 'c':222, 'd':554})\n",
    "# df.loc['o'] = pd.Series({'aa':12, 'b':5, 'c':2, 'd':546})\n",
    "# df.loc['p'] = pd.Series({'aa':20, 'b':9, 'c':20, 'd':5})\n",
    "# df.loc['h'] = pd.Series({'aa':1, 'b':69, 'c':27, 'd':544})\n",
    "# df.loc['v'] = pd.Series({'aa':20, 'b':529, 'c':72, 'd':34})\n",
    "# df.loc['xx'] = pd.Series({'aa':321, 'b':54, 'c':22, 'd':322})\n",
    "# df.loc['yy'] = pd.Series({'aa':412, 'b':35, 'c':231, 'd':23})\n",
    "# df.loc['zz'] = pd.Series({'aa':1220, 'b':359, 'c':22, 'd':2474})\n",
    "# df.loc['mm'] = pd.Series({'aa':183, 'b':559, 'c':732, 'd':774})\n",
    "# df.loc['nn'] = pd.Series({'aa':125, 'b':529, 'c':2292, 'd':554})\n",
    "# df.loc['oo'] = pd.Series({'aa':122, 'b':5, 'c':22, 'd':546})\n",
    "# df.loc['pp'] = pd.Series({'aa':1330, 'b':93, 'c':20, 'd':5})\n",
    "# df.loc['hh'] = pd.Series({'aa':1422, 'b':69, 'c':427, 'd':544})\n",
    "# df.loc['vv'] = pd.Series({'aa':1200, 'b':329, 'c':72, 'd':4})"
   ]
  },
  {
   "cell_type": "code",
   "execution_count": 29,
   "id": "bf150a55",
   "metadata": {},
   "outputs": [],
   "source": [
    "# df.dtypes"
   ]
  },
  {
   "cell_type": "code",
   "execution_count": 30,
   "id": "c9986aa5",
   "metadata": {},
   "outputs": [],
   "source": [
    "# scaled_data = scale_(df_with_columns = df[['aa','b','c']])"
   ]
  },
  {
   "cell_type": "code",
   "execution_count": 31,
   "id": "eeba9c00",
   "metadata": {},
   "outputs": [],
   "source": [
    "#elbow_plot(min_cluster=2,max_cluster=10,scaled_data=scaled_data)"
   ]
  },
  {
   "cell_type": "code",
   "execution_count": 32,
   "id": "76b1519c",
   "metadata": {},
   "outputs": [],
   "source": [
    "# histogram_printing(df,column='aa',bins = 300,ylim_list = [0,5],xlim_list = [0,600])"
   ]
  },
  {
   "cell_type": "code",
   "execution_count": 33,
   "id": "1b6ada96",
   "metadata": {},
   "outputs": [],
   "source": [
    "# df = transforming_columns(df,col_list = ['aa','b','c','d'])"
   ]
  },
  {
   "cell_type": "code",
   "execution_count": 34,
   "id": "c2609b4e",
   "metadata": {},
   "outputs": [],
   "source": [
    "# scatter_plot(df,xcolumn = 'b',ycolumn = 'log_transform_aa')"
   ]
  },
  {
   "cell_type": "code",
   "execution_count": 35,
   "id": "233ffd55",
   "metadata": {},
   "outputs": [],
   "source": [
    "# df = clustering(df,cluster_amounts = [3,4,5],scaled_data=scaled_data)"
   ]
  },
  {
   "cell_type": "code",
   "execution_count": 36,
   "id": "0ebb775f",
   "metadata": {},
   "outputs": [],
   "source": [
    "# cluster_scatter(df,xcolumn = 'aa',ycolumn = 'b',cluster_value = [3,4])"
   ]
  },
  {
   "cell_type": "code",
   "execution_count": 37,
   "id": "91162969",
   "metadata": {},
   "outputs": [],
   "source": [
    "# description(df,column = ['aa','b','c'],cluster_value = 3)"
   ]
  },
  {
   "cell_type": "code",
   "execution_count": null,
   "id": "cf67594f",
   "metadata": {},
   "outputs": [],
   "source": []
  },
  {
   "cell_type": "code",
   "execution_count": null,
   "id": "6074c068",
   "metadata": {},
   "outputs": [],
   "source": []
  },
  {
   "cell_type": "code",
   "execution_count": null,
   "id": "6e40075b",
   "metadata": {},
   "outputs": [],
   "source": []
  },
  {
   "cell_type": "code",
   "execution_count": null,
   "id": "457d4e64",
   "metadata": {},
   "outputs": [],
   "source": []
  }
 ],
 "metadata": {
  "kernelspec": {
   "display_name": "Python 3",
   "language": "python",
   "name": "python3"
  },
  "language_info": {
   "codemirror_mode": {
    "name": "ipython",
    "version": 3
   },
   "file_extension": ".py",
   "mimetype": "text/x-python",
   "name": "python",
   "nbconvert_exporter": "python",
   "pygments_lexer": "ipython3",
   "version": "3.8.8"
  }
 },
 "nbformat": 4,
 "nbformat_minor": 5
}
