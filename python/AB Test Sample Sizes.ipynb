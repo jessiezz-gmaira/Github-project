{
 "cells": [
  {
   "cell_type": "code",
   "execution_count": 1,
   "id": "4f20b6b2",
   "metadata": {},
   "outputs": [],
   "source": [
    "# Set parameters\n",
    "power = 0.8\n",
    "alpha = 0.1\n",
    "effect_size = 0.5"
   ]
  },
  {
   "cell_type": "code",
   "execution_count": 2,
   "id": "59faabaa",
   "metadata": {},
   "outputs": [
    {
     "name": "stdout",
     "output_type": "stream",
     "text": [
      "49\n"
     ]
    }
   ],
   "source": [
    "# Z-Test\n",
    "from statsmodels.stats.power import NormalIndPower\n",
    "\n",
    "# Initiate power analysis\n",
    "power_analysis = NormalIndPower()\n",
    "\n",
    "# Calculate sample size\n",
    "sample_size = power_analysis.solve_power(\n",
    "    effect_size = effect_size,\n",
    "    alpha = alpha,\n",
    "    power = power,\n",
    "    alternative = 'two-sided'\n",
    ")\n",
    "\n",
    "# Print results\n",
    "print(round(sample_size))"
   ]
  },
  {
   "cell_type": "code",
   "execution_count": 3,
   "id": "880b471b",
   "metadata": {},
   "outputs": [
    {
     "name": "stdout",
     "output_type": "stream",
     "text": [
      "50\n"
     ]
    }
   ],
   "source": [
    "# Independent T-Test\n",
    "from statsmodels.stats.power import TTestIndPower\n",
    "\n",
    "# Initiate power analysis\n",
    "power_analysis = TTestIndPower()\n",
    "\n",
    "# Calculate sample size\n",
    "sample_size = power_analysis.solve_power(\n",
    "    effect_size = effect_size,\n",
    "    alpha = alpha,\n",
    "    power = power,\n",
    "    alternative = 'two-sided'\n",
    ")\n",
    "\n",
    "# Print results\n",
    "print(round(sample_size))"
   ]
  },
  {
   "cell_type": "code",
   "execution_count": 4,
   "id": "be2dd53d",
   "metadata": {},
   "outputs": [
    {
     "name": "stdout",
     "output_type": "stream",
     "text": [
      "10\n"
     ]
    },
    {
     "name": "stderr",
     "output_type": "stream",
     "text": [
      "C:\\Users\\jessi\\anaconda3\\Lib\\site-packages\\statsmodels\\stats\\power.py:525: ConvergenceWarning: \n",
      "Failed to converge on a solution.\n",
      "\n",
      "  warnings.warn(convergence_doc, ConvergenceWarning)\n"
     ]
    }
   ],
   "source": [
    "# Chi-squared Test\n",
    "from statsmodels.stats.power import _GofChisquareIndPower\n",
    "\n",
    "# Initiate power analysis\n",
    "power_analysis = _GofChisquareIndPower()\n",
    "\n",
    "# Calculate sample size\n",
    "sample_size ,  = power_analysis.solve_power(\n",
    "    effect_size = effect_size,\n",
    "    alpha = alpha,\n",
    "    power = power,\n",
    "    alternative = 'two-sided'\n",
    ")\n",
    "\n",
    "# Print results\n",
    "print(round(sample_size))"
   ]
  },
  {
   "cell_type": "code",
   "execution_count": null,
   "id": "159c68ec",
   "metadata": {},
   "outputs": [],
   "source": []
  }
 ],
 "metadata": {
  "kernelspec": {
   "display_name": "Python 3 (ipykernel)",
   "language": "python",
   "name": "python3"
  },
  "language_info": {
   "codemirror_mode": {
    "name": "ipython",
    "version": 3
   },
   "file_extension": ".py",
   "mimetype": "text/x-python",
   "name": "python",
   "nbconvert_exporter": "python",
   "pygments_lexer": "ipython3",
   "version": "3.11.5"
  }
 },
 "nbformat": 4,
 "nbformat_minor": 5
}
