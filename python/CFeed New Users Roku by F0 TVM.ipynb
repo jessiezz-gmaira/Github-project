{
 "cells": [
  {
   "cell_type": "code",
   "execution_count": null,
   "id": "9cce763a",
   "metadata": {},
   "outputs": [],
   "source": [
    "# COHORT_ROKU_NEW_102022 "
   ]
  },
  {
   "cell_type": "code",
   "execution_count": 1,
   "id": "8987030a",
   "metadata": {},
   "outputs": [
    {
     "data": {
      "image/png": "[encoded data removed]",
      "text/plain": [
       "<Figure size 432x288 with 1 Axes>"
      ]
     },
     "metadata": {
      "needs_background": "light"
     },
     "output_type": "display_data"
    }
   ],
   "source": [
    "%matplotlib inline\n",
    "from sklearn.cluster import KMeans\n",
    "from sklearn.preprocessing import scale\n",
    "from sklearn.metrics import silhouette_samples, silhouette_score\n",
    "import snowflake.connector\n",
    "import pandas as pd\n",
    "import matplotlib.pyplot as plt\n",
    "import numpy as np\n",
    "import configparser\n",
    "from sqlalchemy import create_engine\n",
    "import seaborn as sns\n",
    "\n",
    "pd.options.display.float_format = \"{:,.2f}\".format\n",
    "plt.ticklabel_format(style='plain');"
   ]
  },
  {
   "cell_type": "code",
   "execution_count": 2,
   "id": "14e09647",
   "metadata": {},
   "outputs": [],
   "source": [
    "config = configparser.ConfigParser()\n",
    "config.read(r'C:\\Users\\mairag0502\\config.ini')\n",
    "user = config['sf_login']['user']\n",
    "pswd = config['sf_login']['pswd']"
   ]
  },
  {
   "cell_type": "code",
   "execution_count": 4,
   "id": "a5f87586",
   "metadata": {},
   "outputs": [],
   "source": [
    "con = snowflake.connector.connect(\n",
    "    user=user,\n",
    "    password=pswd,\n",
    "    account='plutotv_prod.us-east-1',\n",
    "    database='SANDBOX',\n",
    "    schema='ANALYSIS_PRODUCT'\n",
    ")"
   ]
  },
  {
   "cell_type": "code",
   "execution_count": 3,
   "id": "73606814",
   "metadata": {},
   "outputs": [],
   "source": [
    "query = \"\"\"select * from COHORT_ROKU_NEW_102022\n",
    "\n",
    "                \"\"\""
   ]
  },
  {
   "cell_type": "code",
   "execution_count": 5,
   "id": "63189cc0",
   "metadata": {},
   "outputs": [
    {
     "name": "stdout",
     "output_type": "stream",
     "text": [
      "Working on chunk #1\r"
     ]
    }
   ],
   "source": [
    "# data from snowflake\n",
    "chunks = []\n",
    "for chunk in pd.read_sql_query(query, con, chunksize=2_000_000):\n",
    "    print(f\"Working on chunk #{len(chunks)+1}\", end='\\r')\n",
    "    chunks.append(chunk)\n",
    "#     chunk.to_csv(f\"{CSV_File_prefix}{len(chunks)}.csv\", index=False, header=True)\n",
    "df = pd.concat(chunks)\n",
    "\n",
    "# return df"
   ]
  },
  {
   "cell_type": "code",
   "execution_count": 6,
   "id": "0c505e42",
   "metadata": {},
   "outputs": [
    {
     "data": {
      "text/html": [
       "<div>\n",
       "<style scoped>\n",
       "    .dataframe tbody tr th:only-of-type {\n",
       "        vertical-align: middle;\n",
       "    }\n",
       "\n",
       "    .dataframe tbody tr th {\n",
       "        vertical-align: top;\n",
       "    }\n",
       "\n",
       "    .dataframe thead th {\n",
       "        text-align: right;\n",
       "    }\n",
       "</style>\n",
       "<table border=\"1\" class=\"dataframe\">\n",
       "  <thead>\n",
       "    <tr style=\"text-align: right;\">\n",
       "      <th></th>\n",
       "      <th>CLIENT_ID</th>\n",
       "      <th>FIRST_SEEN</th>\n",
       "      <th>DATE</th>\n",
       "      <th>UTM_MEDIUM</th>\n",
       "      <th>UTM_CONTENT</th>\n",
       "      <th>UTM_IND</th>\n",
       "      <th>TVM</th>\n",
       "    </tr>\n",
       "  </thead>\n",
       "  <tbody>\n",
       "    <tr>\n",
       "      <th>0</th>\n",
       "      <td>45012d61-eea8-5b9f-a04e-ecd951871e3c</td>\n",
       "      <td>2022-08-01</td>\n",
       "      <td>2022-08-01</td>\n",
       "      <td>None</td>\n",
       "      <td>None</td>\n",
       "      <td>0</td>\n",
       "      <td>165.30</td>\n",
       "    </tr>\n",
       "    <tr>\n",
       "      <th>1</th>\n",
       "      <td>b4194ff3-eb98-5f7b-b6b4-da02bfeee4b8</td>\n",
       "      <td>2022-08-01</td>\n",
       "      <td>2022-08-01</td>\n",
       "      <td>searchintegration</td>\n",
       "      <td>62df153775b9dc0013ce7606</td>\n",
       "      <td>1</td>\n",
       "      <td>23.33</td>\n",
       "    </tr>\n",
       "    <tr>\n",
       "      <th>2</th>\n",
       "      <td>9c855e29-c0d7-5345-8eb8-786407e2d6ef</td>\n",
       "      <td>2022-08-01</td>\n",
       "      <td>2022-08-01</td>\n",
       "      <td>None</td>\n",
       "      <td>None</td>\n",
       "      <td>0</td>\n",
       "      <td>35.32</td>\n",
       "    </tr>\n",
       "    <tr>\n",
       "      <th>3</th>\n",
       "      <td>f18cb774-bce8-53d4-808d-9ddbf0f99752</td>\n",
       "      <td>2022-08-01</td>\n",
       "      <td>2022-08-01</td>\n",
       "      <td>None</td>\n",
       "      <td>None</td>\n",
       "      <td>0</td>\n",
       "      <td>280.85</td>\n",
       "    </tr>\n",
       "    <tr>\n",
       "      <th>4</th>\n",
       "      <td>6113ab86-c7c8-5cc3-bc75-163b0e7928fc</td>\n",
       "      <td>2022-08-01</td>\n",
       "      <td>2022-08-01</td>\n",
       "      <td>None</td>\n",
       "      <td>None</td>\n",
       "      <td>0</td>\n",
       "      <td>217.03</td>\n",
       "    </tr>\n",
       "  </tbody>\n",
       "</table>\n",
       "</div>"
      ],
      "text/plain": [
       "                              CLIENT_ID FIRST_SEEN        DATE  \\\n",
       "0  45012d61-eea8-5b9f-a04e-ecd951871e3c 2022-08-01  2022-08-01   \n",
       "1  b4194ff3-eb98-5f7b-b6b4-da02bfeee4b8 2022-08-01  2022-08-01   \n",
       "2  9c855e29-c0d7-5345-8eb8-786407e2d6ef 2022-08-01  2022-08-01   \n",
       "3  f18cb774-bce8-53d4-808d-9ddbf0f99752 2022-08-01  2022-08-01   \n",
       "4  6113ab86-c7c8-5cc3-bc75-163b0e7928fc 2022-08-01  2022-08-01   \n",
       "\n",
       "          UTM_MEDIUM               UTM_CONTENT  UTM_IND    TVM  \n",
       "0               None                      None        0 165.30  \n",
       "1  searchintegration  62df153775b9dc0013ce7606        1  23.33  \n",
       "2               None                      None        0  35.32  \n",
       "3               None                      None        0 280.85  \n",
       "4               None                      None        0 217.03  "
      ]
     },
     "execution_count": 6,
     "metadata": {},
     "output_type": "execute_result"
    }
   ],
   "source": [
    "df.head()"
   ]
  },
  {
   "cell_type": "code",
   "execution_count": 7,
   "id": "028d7a8a",
   "metadata": {},
   "outputs": [],
   "source": [
    "df['FD_BIN'] = pd.cut(x=df['TVM'], bins=[0, 1, 5, 10, 30, 60, 90, 120, 240, 480, 720, 10000])"
   ]
  },
  {
   "cell_type": "code",
   "execution_count": 8,
   "id": "ad45f496",
   "metadata": {},
   "outputs": [
    {
     "data": {
      "text/html": [
       "<div>\n",
       "<style scoped>\n",
       "    .dataframe tbody tr th:only-of-type {\n",
       "        vertical-align: middle;\n",
       "    }\n",
       "\n",
       "    .dataframe tbody tr th {\n",
       "        vertical-align: top;\n",
       "    }\n",
       "\n",
       "    .dataframe thead th {\n",
       "        text-align: right;\n",
       "    }\n",
       "</style>\n",
       "<table border=\"1\" class=\"dataframe\">\n",
       "  <thead>\n",
       "    <tr style=\"text-align: right;\">\n",
       "      <th></th>\n",
       "      <th>CLIENT_ID</th>\n",
       "      <th>FIRST_SEEN</th>\n",
       "      <th>DATE</th>\n",
       "      <th>UTM_MEDIUM</th>\n",
       "      <th>UTM_CONTENT</th>\n",
       "      <th>UTM_IND</th>\n",
       "      <th>TVM</th>\n",
       "      <th>FD_BIN</th>\n",
       "    </tr>\n",
       "  </thead>\n",
       "  <tbody>\n",
       "    <tr>\n",
       "      <th>0</th>\n",
       "      <td>45012d61-eea8-5b9f-a04e-ecd951871e3c</td>\n",
       "      <td>2022-08-01</td>\n",
       "      <td>2022-08-01</td>\n",
       "      <td>None</td>\n",
       "      <td>None</td>\n",
       "      <td>0</td>\n",
       "      <td>165.30</td>\n",
       "      <td>(120, 240]</td>\n",
       "    </tr>\n",
       "    <tr>\n",
       "      <th>1</th>\n",
       "      <td>b4194ff3-eb98-5f7b-b6b4-da02bfeee4b8</td>\n",
       "      <td>2022-08-01</td>\n",
       "      <td>2022-08-01</td>\n",
       "      <td>searchintegration</td>\n",
       "      <td>62df153775b9dc0013ce7606</td>\n",
       "      <td>1</td>\n",
       "      <td>23.33</td>\n",
       "      <td>(10, 30]</td>\n",
       "    </tr>\n",
       "    <tr>\n",
       "      <th>2</th>\n",
       "      <td>9c855e29-c0d7-5345-8eb8-786407e2d6ef</td>\n",
       "      <td>2022-08-01</td>\n",
       "      <td>2022-08-01</td>\n",
       "      <td>None</td>\n",
       "      <td>None</td>\n",
       "      <td>0</td>\n",
       "      <td>35.32</td>\n",
       "      <td>(30, 60]</td>\n",
       "    </tr>\n",
       "    <tr>\n",
       "      <th>3</th>\n",
       "      <td>f18cb774-bce8-53d4-808d-9ddbf0f99752</td>\n",
       "      <td>2022-08-01</td>\n",
       "      <td>2022-08-01</td>\n",
       "      <td>None</td>\n",
       "      <td>None</td>\n",
       "      <td>0</td>\n",
       "      <td>280.85</td>\n",
       "      <td>(240, 480]</td>\n",
       "    </tr>\n",
       "    <tr>\n",
       "      <th>4</th>\n",
       "      <td>6113ab86-c7c8-5cc3-bc75-163b0e7928fc</td>\n",
       "      <td>2022-08-01</td>\n",
       "      <td>2022-08-01</td>\n",
       "      <td>None</td>\n",
       "      <td>None</td>\n",
       "      <td>0</td>\n",
       "      <td>217.03</td>\n",
       "      <td>(120, 240]</td>\n",
       "    </tr>\n",
       "  </tbody>\n",
       "</table>\n",
       "</div>"
      ],
      "text/plain": [
       "                              CLIENT_ID FIRST_SEEN        DATE  \\\n",
       "0  45012d61-eea8-5b9f-a04e-ecd951871e3c 2022-08-01  2022-08-01   \n",
       "1  b4194ff3-eb98-5f7b-b6b4-da02bfeee4b8 2022-08-01  2022-08-01   \n",
       "2  9c855e29-c0d7-5345-8eb8-786407e2d6ef 2022-08-01  2022-08-01   \n",
       "3  f18cb774-bce8-53d4-808d-9ddbf0f99752 2022-08-01  2022-08-01   \n",
       "4  6113ab86-c7c8-5cc3-bc75-163b0e7928fc 2022-08-01  2022-08-01   \n",
       "\n",
       "          UTM_MEDIUM               UTM_CONTENT  UTM_IND    TVM      FD_BIN  \n",
       "0               None                      None        0 165.30  (120, 240]  \n",
       "1  searchintegration  62df153775b9dc0013ce7606        1  23.33    (10, 30]  \n",
       "2               None                      None        0  35.32    (30, 60]  \n",
       "3               None                      None        0 280.85  (240, 480]  \n",
       "4               None                      None        0 217.03  (120, 240]  "
      ]
     },
     "execution_count": 8,
     "metadata": {},
     "output_type": "execute_result"
    }
   ],
   "source": [
    "df.head()"
   ]
  },
  {
   "cell_type": "code",
   "execution_count": 10,
   "id": "13a8e538",
   "metadata": {},
   "outputs": [
    {
     "data": {
      "image/png": "[encoded data removed]",
      "text/plain": [
       "<Figure size 1152x288 with 1 Axes>"
      ]
     },
     "metadata": {
      "needs_background": "light"
     },
     "output_type": "display_data"
    }
   ],
   "source": [
    "out = df.groupby('FD_BIN')['TVM'].count()/df.shape[0]\n",
    "ax = out.plot.bar(rot=0, color='b', figsize=(16,4))\n",
    "plt.show()"
   ]
  },
  {
   "cell_type": "code",
   "execution_count": 40,
   "id": "d63605c6",
   "metadata": {},
   "outputs": [
    {
     "data": {
      "image/png": "[encoded data removed]",
      "text/plain": [
       "<Figure size 1152x288 with 1 Axes>"
      ]
     },
     "metadata": {
      "needs_background": "light"
     },
     "output_type": "display_data"
    }
   ],
   "source": [
    "out = df[df['UTM_IND'] == 1].groupby('FD_BIN')['TVM'].count()/df[df['UTM_IND'] == 1]['UTM_IND'].count()\n",
    "ax = out.plot.bar(rot=0, color='b', figsize=(16,4))\n",
    "plt.show()\n"
   ]
  },
  {
   "cell_type": "code",
   "execution_count": 41,
   "id": "e7734950",
   "metadata": {},
   "outputs": [
    {
     "data": {
      "text/html": [
       "<div>\n",
       "<style scoped>\n",
       "    .dataframe tbody tr th:only-of-type {\n",
       "        vertical-align: middle;\n",
       "    }\n",
       "\n",
       "    .dataframe tbody tr th {\n",
       "        vertical-align: top;\n",
       "    }\n",
       "\n",
       "    .dataframe thead th {\n",
       "        text-align: right;\n",
       "    }\n",
       "</style>\n",
       "<table border=\"1\" class=\"dataframe\">\n",
       "  <thead>\n",
       "    <tr style=\"text-align: right;\">\n",
       "      <th></th>\n",
       "      <th>NonCFeed</th>\n",
       "      <th>CFeed</th>\n",
       "      <th>TTL</th>\n",
       "    </tr>\n",
       "    <tr>\n",
       "      <th>FD_BIN</th>\n",
       "      <th></th>\n",
       "      <th></th>\n",
       "      <th></th>\n",
       "    </tr>\n",
       "  </thead>\n",
       "  <tbody>\n",
       "    <tr>\n",
       "      <th>(0, 1]</th>\n",
       "      <td>0.13</td>\n",
       "      <td>0.11</td>\n",
       "      <td>0.12</td>\n",
       "    </tr>\n",
       "    <tr>\n",
       "      <th>(1, 5]</th>\n",
       "      <td>0.22</td>\n",
       "      <td>0.17</td>\n",
       "      <td>0.20</td>\n",
       "    </tr>\n",
       "    <tr>\n",
       "      <th>(5, 10]</th>\n",
       "      <td>0.08</td>\n",
       "      <td>0.06</td>\n",
       "      <td>0.07</td>\n",
       "    </tr>\n",
       "    <tr>\n",
       "      <th>(10, 30]</th>\n",
       "      <td>0.13</td>\n",
       "      <td>0.14</td>\n",
       "      <td>0.14</td>\n",
       "    </tr>\n",
       "    <tr>\n",
       "      <th>(30, 60]</th>\n",
       "      <td>0.11</td>\n",
       "      <td>0.13</td>\n",
       "      <td>0.11</td>\n",
       "    </tr>\n",
       "    <tr>\n",
       "      <th>(60, 90]</th>\n",
       "      <td>0.07</td>\n",
       "      <td>0.08</td>\n",
       "      <td>0.07</td>\n",
       "    </tr>\n",
       "    <tr>\n",
       "      <th>(90, 120]</th>\n",
       "      <td>0.06</td>\n",
       "      <td>0.08</td>\n",
       "      <td>0.06</td>\n",
       "    </tr>\n",
       "    <tr>\n",
       "      <th>(120, 240]</th>\n",
       "      <td>0.11</td>\n",
       "      <td>0.16</td>\n",
       "      <td>0.13</td>\n",
       "    </tr>\n",
       "    <tr>\n",
       "      <th>(240, 480]</th>\n",
       "      <td>0.08</td>\n",
       "      <td>0.06</td>\n",
       "      <td>0.08</td>\n",
       "    </tr>\n",
       "    <tr>\n",
       "      <th>(480, 720]</th>\n",
       "      <td>0.01</td>\n",
       "      <td>0.00</td>\n",
       "      <td>0.01</td>\n",
       "    </tr>\n",
       "    <tr>\n",
       "      <th>(720, 10000]</th>\n",
       "      <td>0.00</td>\n",
       "      <td>0.00</td>\n",
       "      <td>0.00</td>\n",
       "    </tr>\n",
       "  </tbody>\n",
       "</table>\n",
       "</div>"
      ],
      "text/plain": [
       "              NonCFeed  CFeed  TTL\n",
       "FD_BIN                            \n",
       "(0, 1]            0.13   0.11 0.12\n",
       "(1, 5]            0.22   0.17 0.20\n",
       "(5, 10]           0.08   0.06 0.07\n",
       "(10, 30]          0.13   0.14 0.14\n",
       "(30, 60]          0.11   0.13 0.11\n",
       "(60, 90]          0.07   0.08 0.07\n",
       "(90, 120]         0.06   0.08 0.06\n",
       "(120, 240]        0.11   0.16 0.13\n",
       "(240, 480]        0.08   0.06 0.08\n",
       "(480, 720]        0.01   0.00 0.01\n",
       "(720, 10000]      0.00   0.00 0.00"
      ]
     },
     "execution_count": 41,
     "metadata": {},
     "output_type": "execute_result"
    }
   ],
   "source": [
    "pd.concat([pd.DataFrame(df[df['UTM_IND'] == 0].groupby('FD_BIN')['TVM'].count()/df[df['UTM_IND'] == 0]['UTM_IND'].count()).\n",
    "          rename(columns = {'TVM': 'NonCFeed'}), pd.DataFrame(df[df['UTM_IND'] == 1].groupby('FD_BIN')['TVM'].count()/\n",
    "                                                           df[df['UTM_IND'] == 1]['UTM_IND'].count()).\n",
    "          rename(columns = {'TVM': 'CFeed'}), pd.DataFrame(df.groupby('FD_BIN')['TVM'].count()/df.shape[0]).\n",
    "           rename(columns = {'TVM': 'TTL'})], axis = 1)\n"
   ]
  },
  {
   "cell_type": "code",
   "execution_count": 38,
   "id": "a54a8053",
   "metadata": {},
   "outputs": [
    {
     "data": {
      "text/plain": [
       "FD_BIN\n",
       "(0, 1]         0.11\n",
       "(1, 5]         0.17\n",
       "(5, 10]        0.06\n",
       "(10, 30]       0.14\n",
       "(30, 60]       0.13\n",
       "(60, 90]       0.08\n",
       "(90, 120]      0.08\n",
       "(120, 240]     0.16\n",
       "(240, 480]     0.06\n",
       "(480, 720]     0.00\n",
       "(720, 10000]   0.00\n",
       "Name: TVM, dtype: float64"
      ]
     },
     "execution_count": 38,
     "metadata": {},
     "output_type": "execute_result"
    }
   ],
   "source": [
    "df[df['UTM_IND'] == 1].groupby('FD_BIN')['TVM'].count()/df[df['UTM_IND'] == 1]['UTM_IND'].count()"
   ]
  },
  {
   "cell_type": "code",
   "execution_count": null,
   "id": "25040eda",
   "metadata": {},
   "outputs": [],
   "source": []
  }
 ],
 "metadata": {
  "kernelspec": {
   "display_name": "Python 3 (ipykernel)",
   "language": "python",
   "name": "python3"
  },
  "language_info": {
   "codemirror_mode": {
    "name": "ipython",
    "version": 3
   },
   "file_extension": ".py",
   "mimetype": "text/x-python",
   "name": "python",
   "nbconvert_exporter": "python",
   "pygments_lexer": "ipython3",
   "version": "3.9.7"
  }
 },
 "nbformat": 4,
 "nbformat_minor": 5
}
