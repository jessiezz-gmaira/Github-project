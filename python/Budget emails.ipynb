{
 "cells": [
  {
   "cell_type": "markdown",
   "metadata": {},
   "source": [
    "### API Calls\n",
    "\n"
   ]
  },
  {
   "cell_type": "code",
   "execution_count": 70,
   "metadata": {},
   "outputs": [
    {
     "data": {
      "text/plain": [
       "['C:\\\\Users\\\\GisselleMaira\\\\test.ini']"
      ]
     },
     "execution_count": 70,
     "metadata": {},
     "output_type": "execute_result"
    }
   ],
   "source": [
    "import configparser\n",
    "\n",
    "config = configparser.ConfigParser()\n",
    "config.read(r'C:\\Users\\GisselleMaira\\test.ini')"
   ]
  },
  {
   "cell_type": "code",
   "execution_count": 71,
   "metadata": {},
   "outputs": [],
   "source": [
    "import json\n",
    "import os\n",
    "import urllib.request\n",
    "import requests\n",
    "import pandas as pd\n",
    "import numpy as np\n",
    "import datetime\n",
    "from datetime import date\n",
    "from datetime import datetime, timedelta\n",
    "# from selenium import webdriver\n",
    "# from selenium.webdriver.common.keys import Keys\n",
    "# from selenium.webdriver.common.by import By\n",
    "# from selenium.webdriver.support.ui import Select\n",
    "# from selenium.webdriver.support.relative_locator import locate_with\n",
    "# from bs4 import BeautifulSoup\n",
    "import shutil\n",
    "import glob\n",
    "import os.path\n",
    "import time"
   ]
  },
  {
   "cell_type": "code",
   "execution_count": 72,
   "metadata": {},
   "outputs": [],
   "source": [
    "import openpyxl\n",
    "import xlsxwriter\n",
    "from email.message import EmailMessage\n",
    "# import smptlib\n",
    "import win32com.client\n"
   ]
  },
  {
   "cell_type": "code",
   "execution_count": 73,
   "metadata": {},
   "outputs": [],
   "source": [
    "acct = config['api']['account']\n",
    "token = config['api']['token']\n",
    "\n",
    "payload={}\n",
    "headers = {\n",
    "  'Harvest-Account-Id': acct,\n",
    "  'Authorization': token\n",
    "}"
   ]
  },
  {
   "cell_type": "code",
   "execution_count": 139,
   "metadata": {},
   "outputs": [],
   "source": [
    "# budget data\n",
    "url = f\"https://api.harvestapp.com/v2/reports/project_budget?is_active=true\"\n",
    "\n",
    "response = requests.request(\"GET\", url, headers=headers, data=payload).text\n",
    "\n",
    "data_json  = json.loads(response)['results']  "
   ]
  },
  {
   "cell_type": "code",
   "execution_count": 6,
   "metadata": {},
   "outputs": [],
   "source": [
    "# assignement data\n",
    "# url2 = f\"https://api.harvestapp.com/v2/users/me/project_assignments\"\n",
    "\n",
    "# resp2 = requests.request(\"GET\", url2, headers=headers, data=payload).text\n",
    "\n",
    "# data_json2  = json.loads(resp2)['project_assignments']  "
   ]
  },
  {
   "cell_type": "code",
   "execution_count": 14,
   "metadata": {},
   "outputs": [],
   "source": [
    "# user data\n",
    "url3 = f\"https://api.harvestapp.com/v2/users?is_active=true\"\n",
    "resp3 = requests.request(\"GET\", url3, headers=headers, data=payload).text\n",
    "\n",
    "data_json3  = json.loads(resp3)['users']\n",
    "# data_json3"
   ]
  },
  {
   "cell_type": "code",
   "execution_count": 12,
   "metadata": {},
   "outputs": [],
   "source": [
    "# roles\n",
    "# url4 = f\"https://api.harvestapp.com/v2/roles\"\n",
    "# resp4 = requests.request(\"GET\", url4, headers=headers, data=payload).text\n",
    "# data_json4  = json.loads(resp4)['roles']    "
   ]
  },
  {
   "cell_type": "code",
   "execution_count": 140,
   "metadata": {},
   "outputs": [],
   "source": [
    "budget = pd.json_normalize(data_json)\n",
    "# assign = pd.json_normalize(data_json2)\n",
    "users = pd.json_normalize(data_json3)\n",
    "# roles = pd.json_normalize(data_json4)"
   ]
  },
  {
   "cell_type": "code",
   "execution_count": 16,
   "metadata": {},
   "outputs": [],
   "source": [
    "# data_json2_task = pd.json_normalize(\n",
    "#     data_json2, meta = ['id' ],  \\\n",
    "#     record_path = 'task_assignments', record_prefix='task_', errors = 'ignore')\n",
    "\n",
    "# assign = pd.json_normalize(data_json2)\n",
    "\n",
    "# assign.columns = assign.columns.str.replace('.', '_')\n",
    "\n",
    "# assign = assign.drop(columns=['task_assignments'])"
   ]
  },
  {
   "cell_type": "code",
   "execution_count": 17,
   "metadata": {},
   "outputs": [],
   "source": [
    "\n",
    "# assign_fin = pd.merge(assign, data_json2_task, on = ['id'], how='left')\n",
    "# assign_fin.head()"
   ]
  },
  {
   "cell_type": "code",
   "execution_count": 18,
   "metadata": {},
   "outputs": [],
   "source": [
    "# writer = pd.ExcelWriter(r\"C:\\Users\\GisselleMaira\\Desktop\\users.xlsx\", engine='xlsxwriter')\n",
    "\n",
    "# users.to_excel(writer, sheet_name='users', index = False)\n",
    "# assign_fin.to_excel(writer, sheet_name='assign', index = False)\n",
    "# budget.to_excel(writer, sheet_name='budget', index = False)\n",
    "# roles.to_excel(writer, sheet_name='roles', index = False)\n",
    "\n",
    "# writer.save()\n",
    "# incomplete list\n",
    "# users[users.is_project_manager == True]"
   ]
  },
  {
   "cell_type": "code",
   "execution_count": 75,
   "metadata": {
    "scrolled": true
   },
   "outputs": [],
   "source": [
    "# filter out non billable\n",
    "projects = budget[~budget.client_name.isin(['0000_Spinnaker', '0070_Dotted Line'])]\n",
    "projects = projects[['project_name','client_name', 'budget','budget_spent','budget_remaining']][projects.is_active == True]\n",
    "# budget"
   ]
  },
  {
   "cell_type": "code",
   "execution_count": 203,
   "metadata": {},
   "outputs": [],
   "source": [
    "users2 = users.explode('roles')\n",
    "\n",
    "# isolate emails and filter out FP - they can have multiple assignments\n",
    "FPemail = users2[users2['roles'].isin(['Flying Phase'])]['email']\n",
    "nonFP = users2[~users2.email.isin(FPemail)]\n",
    "FP = users2[users2.email.isin(FPemail)]\n",
    "\n",
    "# get advisor/consultants only\n",
    "FP2 = FP[FP['roles'].isin(['Advisor', 'Consultant'])][['id', 'first_name', 'last_name', 'email', 'default_hourly_rate', 'cost_rate', 'roles']]\n",
    "BU2 = users2[users2['roles'].isin(['Flying Phase'])][['id', 'email', 'roles']]\n",
    "FP3 = pd.merge(FP2, BU2 , on = ['id', 'email'], how='left')\n",
    "\n",
    "nonFP2 = nonFP[nonFP['roles'].isin(['Advisor', 'Consultant'])][['id', 'first_name', 'last_name', 'email', 'default_hourly_rate', 'cost_rate', 'roles']]\n",
    "BU1 = users2[users2['roles'].isin(['CCOM', 'Risk', 'Data and Analytics'])][['id', 'email', 'roles']]\n",
    "pd.merge(users3, BU , on = ['id', 'email'], how='left')\n",
    "nonFP3 = pd.merge(nonFP2, BU1 , on = ['id', 'email'], how='left')\n",
    "\n",
    "\n",
    "all_users = pd.concat([nonFP3,FP3], axis=0)\n",
    "all_users.rename(columns={'roles_x': 'role', 'roles_y': 'BusUnit'}, inplace=True)"
   ]
  },
  {
   "cell_type": "code",
   "execution_count": 204,
   "metadata": {},
   "outputs": [
    {
     "data": {
      "text/plain": [
       "Index(['id', 'first_name', 'last_name', 'email', 'default_hourly_rate',\n",
       "       'cost_rate', 'role', 'BusUnit'],\n",
       "      dtype='object')"
      ]
     },
     "execution_count": 204,
     "metadata": {},
     "output_type": "execute_result"
    }
   ],
   "source": [
    "all_users.columns"
   ]
  },
  {
   "cell_type": "markdown",
   "metadata": {},
   "source": [
    "## Temporary data to test email."
   ]
  },
  {
   "cell_type": "code",
   "execution_count": 20,
   "metadata": {},
   "outputs": [],
   "source": [
    "# sample data for project manager data (placeholder only )\n",
    "\n",
    "data = pd.DataFrame({'User_id': [3728213]*10 + [3697393]*5 + [0] + [123] + [456]})\n",
    "# data\n",
    "df = pd.DataFrame(data, columns = ['User_id'])"
   ]
  },
  {
   "cell_type": "code",
   "execution_count": 21,
   "metadata": {},
   "outputs": [],
   "source": [
    "\n",
    "proj_2 = pd.concat([projects, df], axis=1)\n",
    "# proj_2.head()"
   ]
  },
  {
   "cell_type": "code",
   "execution_count": 22,
   "metadata": {},
   "outputs": [],
   "source": [
    "# add email to project list\n",
    "final_proj = pd.merge(proj_2, users[['id', 'email']] , left_on = ['User_id'], right_on = ['id'], how='left')\n",
    "# final_proj.head()"
   ]
  },
  {
   "cell_type": "code",
   "execution_count": 24,
   "metadata": {},
   "outputs": [],
   "source": [
    "final_proj.replace('Brenton.Eska@Spinnakerconsultinggroup.com', 'jessiezz@hotmail.com', inplace = True)\n",
    "# final_proj.head(15)"
   ]
  },
  {
   "cell_type": "markdown",
   "metadata": {},
   "source": [
    "## Temporary section over.  Edit below prior to automating."
   ]
  },
  {
   "cell_type": "code",
   "execution_count": 26,
   "metadata": {},
   "outputs": [
    {
     "data": {
      "text/plain": [
       "['Gisselle.Maira@spinnakerconsultinggroup.com',\n",
       " 'gisselle.maira@spinnakerconsultinggroup.com']"
      ]
     },
     "execution_count": 26,
     "metadata": {},
     "output_type": "execute_result"
    }
   ],
   "source": [
    "email_list = ['Gisselle.Maira@spinnakerconsultinggroup.com','gisselle.maira@spinnakerconsultinggroup.com']\n",
    "# email_list=final_proj.email[~final_proj['email'].isnull()].unique().tolist()\n",
    "# email_list"
   ]
  },
  {
   "cell_type": "code",
   "execution_count": 25,
   "metadata": {},
   "outputs": [],
   "source": [
    "# create email_num to groupby\n",
    "final_proj['email_num'] = np.where(final_proj['email']!= 'jessiezz@hotmail.com', 1, 2)\n",
    "final_proj.replace('jessiezz@hotmail.com', 'gisselle.maira@spinnakerconsultinggroup.com', inplace = True)\n",
    "\n",
    "# automated list of numbers to be merged with email_list\n",
    "# final_proj['email_num'] = [*range(1, len(email_list) + 1, 1)]\n",
    "\n",
    "# count non null emails and group data\n",
    "# end = len(final_proj.email[~final_proj['email'].isnull()].unique())"
   ]
  },
  {
   "cell_type": "code",
   "execution_count": null,
   "metadata": {},
   "outputs": [],
   "source": [
    "# list of alphabetical emails\n",
    "# email_list=final_proj.email[~final_proj['email'].isnull()].unique().tolist()\n",
    "\n",
    "num = final_proj['email_num'].unique()\n",
    "list(num)"
   ]
  },
  {
   "cell_type": "markdown",
   "metadata": {},
   "source": [
    "## Edit final output "
   ]
  },
  {
   "cell_type": "code",
   "execution_count": null,
   "metadata": {},
   "outputs": [],
   "source": [
    "pd.options.display.float_format = '${:,.2f}'.format\n",
    "\n",
    "# final_proj.set_index(keys=['email'], drop=True,inplace=True)\n",
    "final_proj.sort_values(by='email', axis=0, inplace=True)\n",
    "final_proj.drop(['User_id', 'id'],1, inplace = True)\n",
    "final_proj.dropna(subset=['project_name', 'email'], inplace = True)\n",
    "# final_proj.head()\n",
    "\n"
   ]
  },
  {
   "cell_type": "code",
   "execution_count": null,
   "metadata": {
    "scrolled": true
   },
   "outputs": [],
   "source": [
    "# grouped = final_proj.groupby(['email'])\n",
    "grouped = final_proj.groupby(['email_num'])\n",
    "l_grouped = list(grouped)"
   ]
  },
  {
   "cell_type": "code",
   "execution_count": null,
   "metadata": {},
   "outputs": [],
   "source": [
    "# l_grouped['email_num' == 1][1][['project_name', 'client_name', 'budget', 'budget_spent', 'budget_remaining']]\n",
    "# l_grouped[1][1] \n",
    "# l_grouped[0][1]\n",
    "# d = dict(tuple(final_proj.groupby('email')))\n",
    "# d['Gisselle.Maira@Spinnakerconsultinggroup.com']\n",
    "# final_proj.reset_index(drop=True, inplace=True)\n",
    "# final_proj.index\n",
    "\n",
    "# list of alphabetical emails\n"
   ]
  },
  {
   "cell_type": "code",
   "execution_count": null,
   "metadata": {},
   "outputs": [],
   "source": [
    "# final_proj[final_proj['email_num']==(1)][['project_name', 'client_name', 'budget', 'budget_spent', 'budget_remaining']]"
   ]
  },
  {
   "cell_type": "markdown",
   "metadata": {},
   "source": [
    "## Email Creation"
   ]
  },
  {
   "cell_type": "code",
   "execution_count": 228,
   "metadata": {},
   "outputs": [
    {
     "data": {
      "text/plain": [
       "18"
      ]
     },
     "execution_count": 228,
     "metadata": {},
     "output_type": "execute_result"
    }
   ],
   "source": [
    "# URLs = pd.read_excel(r\"C:\\Users\\GisselleMaira\\Desktop\\ProjectURLs.xlsx\")\n",
    "# URLs.URL.count()\n",
    "\n",
    "# # URLs\n",
    "# for idx in URLs.index:\n",
    "#    print(URLs['URL'][idx])\n",
    "   ## Do your selenium tasks here for opening and logging into the fetched link.\n",
    "    \n",
    "    https://spinnakerconsultinggroup.harvestapp.com/projects?filter=active"
   ]
  },
  {
   "cell_type": "code",
   "execution_count": 230,
   "metadata": {},
   "outputs": [
    {
     "ename": "SyntaxError",
     "evalue": "invalid syntax (<ipython-input-230-625767e0aafa>, line 2)",
     "output_type": "error",
     "traceback": [
      "\u001b[1;36m  File \u001b[1;32m\"<ipython-input-230-625767e0aafa>\"\u001b[1;36m, line \u001b[1;32m2\u001b[0m\n\u001b[1;33m    if url = line.strip()\u001b[0m\n\u001b[1;37m           ^\u001b[0m\n\u001b[1;31mSyntaxError\u001b[0m\u001b[1;31m:\u001b[0m invalid syntax\n"
     ]
    }
   ],
   "source": [
    "# for range():\n",
    "#     if url != \"\":\n",
    "#         print(url)\n",
    "#         sleep(2)\n",
    "# driver.quit()\n"
   ]
  },
  {
   "cell_type": "code",
   "execution_count": 227,
   "metadata": {},
   "outputs": [
    {
     "data": {
      "text/plain": [
       "0     https://spinnakerconsultinggroup.harvestapp.co...\n",
       "1     https://spinnakerconsultinggroup.harvestapp.co...\n",
       "2     https://spinnakerconsultinggroup.harvestapp.co...\n",
       "3     https://spinnakerconsultinggroup.harvestapp.co...\n",
       "4     https://spinnakerconsultinggroup.harvestapp.co...\n",
       "5     https://spinnakerconsultinggroup.harvestapp.co...\n",
       "6     https://spinnakerconsultinggroup.harvestapp.co...\n",
       "7     https://spinnakerconsultinggroup.harvestapp.co...\n",
       "8     https://spinnakerconsultinggroup.harvestapp.co...\n",
       "9     https://spinnakerconsultinggroup.harvestapp.co...\n",
       "10    https://spinnakerconsultinggroup.harvestapp.co...\n",
       "11    https://spinnakerconsultinggroup.harvestapp.co...\n",
       "12    https://spinnakerconsultinggroup.harvestapp.co...\n",
       "13    https://spinnakerconsultinggroup.harvestapp.co...\n",
       "14    https://spinnakerconsultinggroup.harvestapp.co...\n",
       "15    https://spinnakerconsultinggroup.harvestapp.co...\n",
       "16    https://spinnakerconsultinggroup.harvestapp.co...\n",
       "17    https://spinnakerconsultinggroup.harvestapp.co...\n",
       "Name: URL, dtype: object"
      ]
     },
     "execution_count": 227,
     "metadata": {},
     "output_type": "execute_result"
    }
   ],
   "source": [
    "# URLs.URL\n",
    "\n",
    "# with open(\"links.txt\") as url_file:\n",
    "#     for line in url_file.readlines():\n",
    "#         url = line.strip()\n",
    "#         if url != \"\":        \n",
    "#             driver.get(url)\n",
    "#             host = urlparse(url).hostname\n",
    "#             driver.get_screenshot_as_file(\"{}.png\".format(host))            \n",
    "#             sleep(2)\n",
    "\n",
    "# driver.quit()\n",
    "# print(\"end...\")"
   ]
  },
  {
   "cell_type": "code",
   "execution_count": null,
   "metadata": {},
   "outputs": [],
   "source": []
  },
  {
   "cell_type": "code",
   "execution_count": null,
   "metadata": {},
   "outputs": [],
   "source": []
  },
  {
   "cell_type": "code",
   "execution_count": null,
   "metadata": {},
   "outputs": [],
   "source": []
  },
  {
   "cell_type": "code",
   "execution_count": null,
   "metadata": {},
   "outputs": [],
   "source": [
    "import win32com.client as win32\n",
    "outlook = win32.Dispatch('outlook.application')"
   ]
  },
  {
   "cell_type": "code",
   "execution_count": null,
   "metadata": {},
   "outputs": [],
   "source": [
    "\n",
    "for i in range(len(num)):\n",
    "#     print(i+1)\n",
    "#     dfa= final_proj[final_proj['email']==i]\n",
    "    dfa = final_proj[final_proj['email_num']==(i+1)][['project_name', 'client_name', 'budget', 'budget_spent', 'budget_remaining']]\n",
    "#     print(dfa)\n",
    "    mail = outlook.CreateItem(0)\n",
    "    mail.To = email_list[i]\n",
    "    mail.Subject = 'Budget updates'\n",
    "    mail.HTMLBody = '''<h3>Please find budget updates below.</h3>\n",
    "                     {}'''.format(dfa.to_html())\n",
    "    print(f\"Email {} sent. \")\n",
    "    mail.Send()"
   ]
  },
  {
   "cell_type": "code",
   "execution_count": null,
   "metadata": {},
   "outputs": [],
   "source": []
  },
  {
   "cell_type": "code",
   "execution_count": null,
   "metadata": {},
   "outputs": [],
   "source": [
    "# splits = [projects.loc[[i]] for i in projects.index]\n",
    "# splits[2]\n",
    "# user_assign = pd.merge(assign, users, on = 'id', how='left')"
   ]
  },
  {
   "cell_type": "code",
   "execution_count": 233,
   "metadata": {},
   "outputs": [],
   "source": [
    "import os\n",
    "import sys\n"
   ]
  },
  {
   "cell_type": "code",
   "execution_count": 234,
   "metadata": {},
   "outputs": [
    {
     "data": {
      "text/plain": [
       "'C:\\\\Users\\\\GisselleMaira\\\\anaconda3'"
      ]
     },
     "execution_count": 234,
     "metadata": {},
     "output_type": "execute_result"
    }
   ],
   "source": [
    "os.path.dirname(sys.executable)"
   ]
  }
 ],
 "metadata": {
  "kernelspec": {
   "display_name": "Python 3",
   "language": "python",
   "name": "python3"
  },
  "language_info": {
   "codemirror_mode": {
    "name": "ipython",
    "version": 3
   },
   "file_extension": ".py",
   "mimetype": "text/x-python",
   "name": "python",
   "nbconvert_exporter": "python",
   "pygments_lexer": "ipython3",
   "version": "3.8.5"
  }
 },
 "nbformat": 4,
 "nbformat_minor": 4
}
