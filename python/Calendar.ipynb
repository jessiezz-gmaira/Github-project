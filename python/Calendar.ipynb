{
 "cells": [
  {
   "cell_type": "code",
   "execution_count": 93,
   "id": "e39fd3a9",
   "metadata": {},
   "outputs": [],
   "source": [
    "import pandas as pd\n",
    "import numpy as np\n",
    "import datetime\n",
    "from datetime import date\n",
    "from datetime import datetime, timedelta\n",
    "from pandas.tseries.offsets import *\n",
    "import time\n",
    "from pandas.tseries.holiday import USFederalHolidayCalendar\n",
    "from pandas.tseries.offsets import CustomBusinessDay\n",
    "import holidays\n"
   ]
  },
  {
   "cell_type": "code",
   "execution_count": 94,
   "id": "d20032c2",
   "metadata": {},
   "outputs": [],
   "source": [
    "us_hol_date = []\n",
    "us_hol_name = []\n",
    "\n",
    "comp_holidays = [\"New Year's Day (Observed)\",\n",
    "                 \"Martin Luther King Jr. Day\",\n",
    "                 \"Washington's Birthday\",\n",
    "                 'Memorial Day',\n",
    "                 'Independence Day',\n",
    "                 'Labor Day', \n",
    "                 'Thanksgiving', \n",
    "                 'Christmas Day',\n",
    "                'Christmas Day (Observed)']\n",
    "\n",
    "for day, name in holidays.UnitedStates(years=[2022, 2023, 2024, 2025], observed=True).items():\n",
    "    if name in comp_holidays:\n",
    "        us_hol_name.append(name)\n",
    "        us_hol_date.append(day)\n",
    "        \n",
    "\n",
    "#SCG observed in 2022 instead of 2021\n",
    "us_hol_date.append(date(2022, 1, 3))\n",
    "\n",
    "# list(filter(lambda x: x.year == 2022, us_hol_date))"
   ]
  },
  {
   "cell_type": "code",
   "execution_count": 95,
   "id": "7cf4d7e0",
   "metadata": {},
   "outputs": [],
   "source": [
    "start = date(2022, 1, 1)\n",
    "end = date(2025, 12, 31)\n",
    "\n",
    "range_of_dates = pd.date_range(start,end)\n",
    "cal = pd.DataFrame(data={'dates': range_of_dates, \"holiday\": [date in us_hol_date for date in range_of_dates]})"
   ]
  },
  {
   "cell_type": "code",
   "execution_count": 101,
   "id": "2814a1fb",
   "metadata": {},
   "outputs": [],
   "source": [
    "cal['Month'] = cal['dates'].dt.to_period('M').apply(lambda x: x.start_time)\n",
    "cal['Year'] = cal['dates'].dt.to_period('Y').apply(lambda x: x.start_time)\n",
    "cal['Wk_start'] = cal['dates'].dt.to_period('W').apply(lambda x: x.start_time)\n",
    "cal['Weekday'] = cal['dates'].dt.weekday\n",
    "cal['holiday'] = cal['holiday'].astype('uint8')\n",
    "cal['days'] = np.where((cal['Weekday'] <= 4) & (cal['holiday'] == 0), 1, 0)"
   ]
  },
  {
   "cell_type": "code",
   "execution_count": 102,
   "id": "c9d4f4d4",
   "metadata": {},
   "outputs": [
    {
     "data": {
      "text/html": [
       "<div>\n",
       "<style scoped>\n",
       "    .dataframe tbody tr th:only-of-type {\n",
       "        vertical-align: middle;\n",
       "    }\n",
       "\n",
       "    .dataframe tbody tr th {\n",
       "        vertical-align: top;\n",
       "    }\n",
       "\n",
       "    .dataframe thead th {\n",
       "        text-align: right;\n",
       "    }\n",
       "</style>\n",
       "<table border=\"1\" class=\"dataframe\">\n",
       "  <thead>\n",
       "    <tr style=\"text-align: right;\">\n",
       "      <th></th>\n",
       "      <th>dates</th>\n",
       "      <th>holiday</th>\n",
       "      <th>Month</th>\n",
       "      <th>Year</th>\n",
       "      <th>Wk_start</th>\n",
       "      <th>Weekday</th>\n",
       "      <th>days</th>\n",
       "    </tr>\n",
       "  </thead>\n",
       "  <tbody>\n",
       "    <tr>\n",
       "      <th>0</th>\n",
       "      <td>2022-01-01</td>\n",
       "      <td>0</td>\n",
       "      <td>2022-01-01</td>\n",
       "      <td>2022-01-01</td>\n",
       "      <td>2021-12-27</td>\n",
       "      <td>5</td>\n",
       "      <td>0</td>\n",
       "    </tr>\n",
       "    <tr>\n",
       "      <th>1</th>\n",
       "      <td>2022-01-02</td>\n",
       "      <td>0</td>\n",
       "      <td>2022-01-01</td>\n",
       "      <td>2022-01-01</td>\n",
       "      <td>2021-12-27</td>\n",
       "      <td>6</td>\n",
       "      <td>0</td>\n",
       "    </tr>\n",
       "    <tr>\n",
       "      <th>2</th>\n",
       "      <td>2022-01-03</td>\n",
       "      <td>1</td>\n",
       "      <td>2022-01-01</td>\n",
       "      <td>2022-01-01</td>\n",
       "      <td>2022-01-03</td>\n",
       "      <td>0</td>\n",
       "      <td>0</td>\n",
       "    </tr>\n",
       "    <tr>\n",
       "      <th>3</th>\n",
       "      <td>2022-01-04</td>\n",
       "      <td>0</td>\n",
       "      <td>2022-01-01</td>\n",
       "      <td>2022-01-01</td>\n",
       "      <td>2022-01-03</td>\n",
       "      <td>1</td>\n",
       "      <td>1</td>\n",
       "    </tr>\n",
       "    <tr>\n",
       "      <th>4</th>\n",
       "      <td>2022-01-05</td>\n",
       "      <td>0</td>\n",
       "      <td>2022-01-01</td>\n",
       "      <td>2022-01-01</td>\n",
       "      <td>2022-01-03</td>\n",
       "      <td>2</td>\n",
       "      <td>1</td>\n",
       "    </tr>\n",
       "  </tbody>\n",
       "</table>\n",
       "</div>"
      ],
      "text/plain": [
       "       dates  holiday      Month       Year   Wk_start  Weekday  days\n",
       "0 2022-01-01        0 2022-01-01 2022-01-01 2021-12-27        5     0\n",
       "1 2022-01-02        0 2022-01-01 2022-01-01 2021-12-27        6     0\n",
       "2 2022-01-03        1 2022-01-01 2022-01-01 2022-01-03        0     0\n",
       "3 2022-01-04        0 2022-01-01 2022-01-01 2022-01-03        1     1\n",
       "4 2022-01-05        0 2022-01-01 2022-01-01 2022-01-03        2     1"
      ]
     },
     "execution_count": 102,
     "metadata": {},
     "output_type": "execute_result"
    }
   ],
   "source": [
    "cal.head()"
   ]
  },
  {
   "cell_type": "code",
   "execution_count": 103,
   "id": "ea18aa6e",
   "metadata": {
    "scrolled": true
   },
   "outputs": [],
   "source": [
    "cal.to_excel(r'C:\\Users\\GisselleMaira\\Desktop\\SLT Docs\\DashboardData\\Calendar.xlsx', index = False)"
   ]
  },
  {
   "cell_type": "code",
   "execution_count": null,
   "id": "e2cc19e0",
   "metadata": {},
   "outputs": [],
   "source": []
  }
 ],
 "metadata": {
  "kernelspec": {
   "display_name": "Python 3",
   "language": "python",
   "name": "python3"
  },
  "language_info": {
   "codemirror_mode": {
    "name": "ipython",
    "version": 3
   },
   "file_extension": ".py",
   "mimetype": "text/x-python",
   "name": "python",
   "nbconvert_exporter": "python",
   "pygments_lexer": "ipython3",
   "version": "3.8.5"
  },
  "varInspector": {
   "cols": {
    "lenName": 16,
    "lenType": 16,
    "lenVar": 40
   },
   "kernels_config": {
    "python": {
     "delete_cmd_postfix": "",
     "delete_cmd_prefix": "del ",
     "library": "var_list.py",
     "varRefreshCmd": "print(var_dic_list())"
    },
    "r": {
     "delete_cmd_postfix": ") ",
     "delete_cmd_prefix": "rm(",
     "library": "var_list.r",
     "varRefreshCmd": "cat(var_dic_list()) "
    }
   },
   "types_to_exclude": [
    "module",
    "function",
    "builtin_function_or_method",
    "instance",
    "_Feature"
   ],
   "window_display": false
  }
 },
 "nbformat": 4,
 "nbformat_minor": 5
}
