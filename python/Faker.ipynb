{
 "cells": [
  {
   "cell_type": "code",
   "execution_count": 2,
   "id": "e72676e7",
   "metadata": {},
   "outputs": [
    {
     "name": "stdout",
     "output_type": "stream",
     "text": [
      "Requirement already satisfied: Faker in c:\\users\\gissellemaira\\anaconda3\\lib\\site-packages (13.3.4)\n",
      "Requirement already satisfied: python-dateutil>=2.4 in c:\\users\\gissellemaira\\anaconda3\\lib\\site-packages (from Faker) (2.8.1)\n",
      "Requirement already satisfied: six>=1.5 in c:\\users\\gissellemaira\\anaconda3\\lib\\site-packages (from python-dateutil>=2.4->Faker) (1.15.0)\n"
     ]
    }
   ],
   "source": [
    "!pip install Faker"
   ]
  },
  {
   "cell_type": "code",
   "execution_count": 4,
   "id": "95985b34",
   "metadata": {},
   "outputs": [],
   "source": [
    "from faker import Faker\n",
    "fake = Faker()"
   ]
  },
  {
   "cell_type": "code",
   "execution_count": 5,
   "id": "d98be1e0",
   "metadata": {},
   "outputs": [
    {
     "data": {
      "text/plain": [
       "'Jesse Campbell'"
      ]
     },
     "execution_count": 5,
     "metadata": {},
     "output_type": "execute_result"
    }
   ],
   "source": [
    "fake.name()"
   ]
  },
  {
   "cell_type": "code",
   "execution_count": 6,
   "id": "a60c98d1",
   "metadata": {},
   "outputs": [
    {
     "data": {
      "text/plain": [
       "'USS Haynes\\nFPO AE 51955'"
      ]
     },
     "execution_count": 6,
     "metadata": {},
     "output_type": "execute_result"
    }
   ],
   "source": [
    "fake.address()"
   ]
  },
  {
   "cell_type": "code",
   "execution_count": 7,
   "id": "42dd2674",
   "metadata": {},
   "outputs": [
    {
     "data": {
      "text/plain": [
       "'Series fly industry claim enter. This operation training why energy. Return cell poor vote believe evening.\\nWish item decision you material. Despite even claim form toward thing during city.'"
      ]
     },
     "execution_count": 7,
     "metadata": {},
     "output_type": "execute_result"
    }
   ],
   "source": [
    "fake.text()"
   ]
  },
  {
   "cell_type": "code",
   "execution_count": 11,
   "id": "0f142264",
   "metadata": {},
   "outputs": [
    {
     "name": "stdout",
     "output_type": "stream",
     "text": [
      "Name: Briana Hudson\n",
      "Address: 4542 Estes Parkways Apt. 553\n",
      "Job: Scientist, marine\n",
      "Company: Hall-Bell\n",
      "\n",
      "Name: Christopher Long\n",
      "Address: 432 Aaron Junction\n",
      "Job: Health physicist\n",
      "Company: Obrien, Guerrero and Barnett\n",
      "\n",
      "Name: Christopher Hickman\n",
      "Address: 9464 Martin Ramp\n",
      "Job: Financial planner\n",
      "Company: Peterson Inc\n",
      "\n"
     ]
    }
   ],
   "source": [
    "for _ in range(3):\n",
    "    print('Name:', fake.name())\n",
    "    print('Address:', fake.street_address())\n",
    "    print('Job:', fake.job())\n",
    "    print('Company:', fake.company())\n",
    "    print()"
   ]
  },
  {
   "cell_type": "code",
   "execution_count": 16,
   "id": "49b233a0",
   "metadata": {},
   "outputs": [
    {
     "data": {
      "text/plain": [
       "{'job': 'Runner, broadcasting/film/video',\n",
       " 'company': 'Burton, Summers and Scott',\n",
       " 'ssn': '861-74-0880',\n",
       " 'residence': '294 Mathis Path Apt. 743\\nYateshaven, MA 63540',\n",
       " 'current_location': (Decimal('-63.7442245'), Decimal('-99.427974')),\n",
       " 'blood_group': 'O+',\n",
       " 'website': ['https://www.johnson-brown.org/', 'https://george.biz/'],\n",
       " 'username': 'victor78',\n",
       " 'name': 'Nancy Steele',\n",
       " 'sex': 'F',\n",
       " 'address': '76247 Neal Cape Apt. 803\\nNorth Monica, GA 34940',\n",
       " 'mail': 'alexis79@yahoo.com',\n",
       " 'birthdate': datetime.date(1978, 1, 30)}"
      ]
     },
     "execution_count": 16,
     "metadata": {},
     "output_type": "execute_result"
    }
   ],
   "source": [
    "fake.profile()"
   ]
  },
  {
   "cell_type": "code",
   "execution_count": 18,
   "id": "5eab1c25",
   "metadata": {},
   "outputs": [],
   "source": [
    "import pandas as pd "
   ]
  },
  {
   "cell_type": "code",
   "execution_count": 43,
   "id": "00e000bc",
   "metadata": {},
   "outputs": [
    {
     "data": {
      "text/html": [
       "<div>\n",
       "<style scoped>\n",
       "    .dataframe tbody tr th:only-of-type {\n",
       "        vertical-align: middle;\n",
       "    }\n",
       "\n",
       "    .dataframe tbody tr th {\n",
       "        vertical-align: top;\n",
       "    }\n",
       "\n",
       "    .dataframe thead th {\n",
       "        text-align: right;\n",
       "    }\n",
       "</style>\n",
       "<table border=\"1\" class=\"dataframe\">\n",
       "  <thead>\n",
       "    <tr style=\"text-align: right;\">\n",
       "      <th></th>\n",
       "      <th>job</th>\n",
       "      <th>company</th>\n",
       "      <th>ssn</th>\n",
       "      <th>residence</th>\n",
       "      <th>current_location</th>\n",
       "      <th>blood_group</th>\n",
       "      <th>website</th>\n",
       "      <th>username</th>\n",
       "      <th>name</th>\n",
       "      <th>sex</th>\n",
       "      <th>address</th>\n",
       "      <th>mail</th>\n",
       "      <th>birthdate</th>\n",
       "    </tr>\n",
       "  </thead>\n",
       "  <tbody>\n",
       "    <tr>\n",
       "      <th>0</th>\n",
       "      <td>Education officer, community</td>\n",
       "      <td>Wallace Group</td>\n",
       "      <td>770-28-3740</td>\n",
       "      <td>775 Parsons Way\\nFranklinfurt, NE 86039</td>\n",
       "      <td>(39.080888, 35.175384)</td>\n",
       "      <td>A+</td>\n",
       "      <td>[https://brown.com/, http://www.gibson.org/, h...</td>\n",
       "      <td>david22</td>\n",
       "      <td>Linda Moreno</td>\n",
       "      <td>F</td>\n",
       "      <td>496 Hood Club Suite 873\\nBellchester, OH 53124</td>\n",
       "      <td>pettymatthew@hotmail.com</td>\n",
       "      <td>1912-03-25</td>\n",
       "    </tr>\n",
       "    <tr>\n",
       "      <th>1</th>\n",
       "      <td>Therapist, art</td>\n",
       "      <td>Bowman, Robertson and Roberts</td>\n",
       "      <td>105-32-5239</td>\n",
       "      <td>11739 Ramirez Summit\\nWest Troy, MT 59361</td>\n",
       "      <td>(-80.958218, -64.147376)</td>\n",
       "      <td>O-</td>\n",
       "      <td>[https://kelley.com/]</td>\n",
       "      <td>jmartin</td>\n",
       "      <td>Kelly Davis</td>\n",
       "      <td>F</td>\n",
       "      <td>3386 Charles Divide Suite 971\\nAliciaside, ME ...</td>\n",
       "      <td>williamsdavid@gmail.com</td>\n",
       "      <td>1975-05-16</td>\n",
       "    </tr>\n",
       "    <tr>\n",
       "      <th>2</th>\n",
       "      <td>Physiological scientist</td>\n",
       "      <td>Schultz, Drake and Johnson</td>\n",
       "      <td>242-78-7895</td>\n",
       "      <td>8049 Mary Mills\\nSouth Stevenfurt, MN 62232</td>\n",
       "      <td>(-75.0111285, 167.717633)</td>\n",
       "      <td>AB+</td>\n",
       "      <td>[https://lee.biz/, https://www.farmer.com/, ht...</td>\n",
       "      <td>rebeccabell</td>\n",
       "      <td>Danielle Ortega</td>\n",
       "      <td>F</td>\n",
       "      <td>9916 Shaw Meadow Suite 610\\nLake Kenneth, VT 6...</td>\n",
       "      <td>leeaaron@gmail.com</td>\n",
       "      <td>1928-12-29</td>\n",
       "    </tr>\n",
       "    <tr>\n",
       "      <th>3</th>\n",
       "      <td>Tourist information centre manager</td>\n",
       "      <td>Bryant LLC</td>\n",
       "      <td>724-03-8425</td>\n",
       "      <td>9943 Douglas Isle\\nNorth Shawnburgh, VA 35329</td>\n",
       "      <td>(-47.268547, 39.440274)</td>\n",
       "      <td>AB-</td>\n",
       "      <td>[http://www.preston.com/, http://www.garza-coo...</td>\n",
       "      <td>uwhite</td>\n",
       "      <td>Lisa Jones</td>\n",
       "      <td>F</td>\n",
       "      <td>710 Hill Village\\nStephanieburgh, MA 46757</td>\n",
       "      <td>lisa17@yahoo.com</td>\n",
       "      <td>1995-10-22</td>\n",
       "    </tr>\n",
       "    <tr>\n",
       "      <th>4</th>\n",
       "      <td>Careers information officer</td>\n",
       "      <td>Blair Ltd</td>\n",
       "      <td>124-55-4883</td>\n",
       "      <td>PSC 6026, Box 4615\\nAPO AP 14354</td>\n",
       "      <td>(-80.6123345, -105.552601)</td>\n",
       "      <td>O+</td>\n",
       "      <td>[https://raymond.org/, http://www.perkins.com/]</td>\n",
       "      <td>williamsangela</td>\n",
       "      <td>Jason Sandoval</td>\n",
       "      <td>M</td>\n",
       "      <td>447 Brianna Land Apt. 748\\nLouiston, IN 63721</td>\n",
       "      <td>smithnicole@gmail.com</td>\n",
       "      <td>1980-02-04</td>\n",
       "    </tr>\n",
       "    <tr>\n",
       "      <th>5</th>\n",
       "      <td>Comptroller</td>\n",
       "      <td>Bauer PLC</td>\n",
       "      <td>155-34-3326</td>\n",
       "      <td>2101 Juan Expressway Suite 631\\nLake Josestad,...</td>\n",
       "      <td>(-34.7916355, 20.869745)</td>\n",
       "      <td>O+</td>\n",
       "      <td>[https://hernandez.org/, https://bentley.com/,...</td>\n",
       "      <td>lisa10</td>\n",
       "      <td>Sara Rodriguez</td>\n",
       "      <td>F</td>\n",
       "      <td>24401 Teresa Port Apt. 637\\nBrowntown, SD 37627</td>\n",
       "      <td>nhardin@gmail.com</td>\n",
       "      <td>1955-08-28</td>\n",
       "    </tr>\n",
       "    <tr>\n",
       "      <th>6</th>\n",
       "      <td>Therapist, music</td>\n",
       "      <td>Hendrix, Hess and Smith</td>\n",
       "      <td>522-69-8537</td>\n",
       "      <td>3393 Williams Prairie\\nWest Richard, GA 18024</td>\n",
       "      <td>(18.436994, -19.017267)</td>\n",
       "      <td>A+</td>\n",
       "      <td>[https://www.brown-martin.com/, https://elliot...</td>\n",
       "      <td>davidyang</td>\n",
       "      <td>Allison Rosales</td>\n",
       "      <td>F</td>\n",
       "      <td>506 Debbie Shores\\nNorth Paul, IL 80197</td>\n",
       "      <td>ruthreilly@gmail.com</td>\n",
       "      <td>1946-01-17</td>\n",
       "    </tr>\n",
       "    <tr>\n",
       "      <th>7</th>\n",
       "      <td>Patent attorney</td>\n",
       "      <td>Chambers-Escobar</td>\n",
       "      <td>475-71-2025</td>\n",
       "      <td>809 Benitez Neck Suite 545\\nSouth Markchester,...</td>\n",
       "      <td>(33.012615, -85.956113)</td>\n",
       "      <td>B-</td>\n",
       "      <td>[http://www.bryan.net/]</td>\n",
       "      <td>karina22</td>\n",
       "      <td>Michael Aguilar</td>\n",
       "      <td>M</td>\n",
       "      <td>389 Diaz Lodge\\nLake Jason, WY 63628</td>\n",
       "      <td>mooreanthony@yahoo.com</td>\n",
       "      <td>1921-01-02</td>\n",
       "    </tr>\n",
       "    <tr>\n",
       "      <th>8</th>\n",
       "      <td>Engineering geologist</td>\n",
       "      <td>Sherman LLC</td>\n",
       "      <td>095-03-5824</td>\n",
       "      <td>8896 Zachary Fields Apt. 100\\nNew Kevinton, MD...</td>\n",
       "      <td>(35.7987255, -23.074892)</td>\n",
       "      <td>A+</td>\n",
       "      <td>[https://www.bender.info/, http://hansen-lynch...</td>\n",
       "      <td>bklein</td>\n",
       "      <td>Benjamin Roberts</td>\n",
       "      <td>M</td>\n",
       "      <td>19576 Riley Bridge\\nDwaynemouth, MD 07033</td>\n",
       "      <td>taramitchell@gmail.com</td>\n",
       "      <td>1929-07-19</td>\n",
       "    </tr>\n",
       "    <tr>\n",
       "      <th>9</th>\n",
       "      <td>Haematologist</td>\n",
       "      <td>Fisher-Greene</td>\n",
       "      <td>511-27-2968</td>\n",
       "      <td>29523 Albert Knolls Apt. 674\\nStewartfort, MS ...</td>\n",
       "      <td>(-53.5662165, 15.698966)</td>\n",
       "      <td>B+</td>\n",
       "      <td>[https://mills-jones.com/, http://harper-adams...</td>\n",
       "      <td>davidsmith</td>\n",
       "      <td>Mrs. Rebekah Bates</td>\n",
       "      <td>F</td>\n",
       "      <td>60286 Black Falls\\nEast Gregoryview, LA 94722</td>\n",
       "      <td>cory41@gmail.com</td>\n",
       "      <td>1950-05-04</td>\n",
       "    </tr>\n",
       "  </tbody>\n",
       "</table>\n",
       "</div>"
      ],
      "text/plain": [
       "                                  job                        company  \\\n",
       "0        Education officer, community                  Wallace Group   \n",
       "1                      Therapist, art  Bowman, Robertson and Roberts   \n",
       "2             Physiological scientist     Schultz, Drake and Johnson   \n",
       "3  Tourist information centre manager                     Bryant LLC   \n",
       "4         Careers information officer                      Blair Ltd   \n",
       "5                         Comptroller                      Bauer PLC   \n",
       "6                    Therapist, music        Hendrix, Hess and Smith   \n",
       "7                     Patent attorney               Chambers-Escobar   \n",
       "8               Engineering geologist                    Sherman LLC   \n",
       "9                       Haematologist                  Fisher-Greene   \n",
       "\n",
       "           ssn                                          residence  \\\n",
       "0  770-28-3740            775 Parsons Way\\nFranklinfurt, NE 86039   \n",
       "1  105-32-5239          11739 Ramirez Summit\\nWest Troy, MT 59361   \n",
       "2  242-78-7895        8049 Mary Mills\\nSouth Stevenfurt, MN 62232   \n",
       "3  724-03-8425      9943 Douglas Isle\\nNorth Shawnburgh, VA 35329   \n",
       "4  124-55-4883                   PSC 6026, Box 4615\\nAPO AP 14354   \n",
       "5  155-34-3326  2101 Juan Expressway Suite 631\\nLake Josestad,...   \n",
       "6  522-69-8537      3393 Williams Prairie\\nWest Richard, GA 18024   \n",
       "7  475-71-2025  809 Benitez Neck Suite 545\\nSouth Markchester,...   \n",
       "8  095-03-5824  8896 Zachary Fields Apt. 100\\nNew Kevinton, MD...   \n",
       "9  511-27-2968  29523 Albert Knolls Apt. 674\\nStewartfort, MS ...   \n",
       "\n",
       "             current_location blood_group  \\\n",
       "0      (39.080888, 35.175384)          A+   \n",
       "1    (-80.958218, -64.147376)          O-   \n",
       "2   (-75.0111285, 167.717633)         AB+   \n",
       "3     (-47.268547, 39.440274)         AB-   \n",
       "4  (-80.6123345, -105.552601)          O+   \n",
       "5    (-34.7916355, 20.869745)          O+   \n",
       "6     (18.436994, -19.017267)          A+   \n",
       "7     (33.012615, -85.956113)          B-   \n",
       "8    (35.7987255, -23.074892)          A+   \n",
       "9    (-53.5662165, 15.698966)          B+   \n",
       "\n",
       "                                             website        username  \\\n",
       "0  [https://brown.com/, http://www.gibson.org/, h...         david22   \n",
       "1                              [https://kelley.com/]         jmartin   \n",
       "2  [https://lee.biz/, https://www.farmer.com/, ht...     rebeccabell   \n",
       "3  [http://www.preston.com/, http://www.garza-coo...          uwhite   \n",
       "4    [https://raymond.org/, http://www.perkins.com/]  williamsangela   \n",
       "5  [https://hernandez.org/, https://bentley.com/,...          lisa10   \n",
       "6  [https://www.brown-martin.com/, https://elliot...       davidyang   \n",
       "7                            [http://www.bryan.net/]        karina22   \n",
       "8  [https://www.bender.info/, http://hansen-lynch...          bklein   \n",
       "9  [https://mills-jones.com/, http://harper-adams...      davidsmith   \n",
       "\n",
       "                 name sex                                            address  \\\n",
       "0        Linda Moreno   F     496 Hood Club Suite 873\\nBellchester, OH 53124   \n",
       "1         Kelly Davis   F  3386 Charles Divide Suite 971\\nAliciaside, ME ...   \n",
       "2     Danielle Ortega   F  9916 Shaw Meadow Suite 610\\nLake Kenneth, VT 6...   \n",
       "3          Lisa Jones   F         710 Hill Village\\nStephanieburgh, MA 46757   \n",
       "4      Jason Sandoval   M      447 Brianna Land Apt. 748\\nLouiston, IN 63721   \n",
       "5      Sara Rodriguez   F    24401 Teresa Port Apt. 637\\nBrowntown, SD 37627   \n",
       "6     Allison Rosales   F            506 Debbie Shores\\nNorth Paul, IL 80197   \n",
       "7     Michael Aguilar   M               389 Diaz Lodge\\nLake Jason, WY 63628   \n",
       "8    Benjamin Roberts   M          19576 Riley Bridge\\nDwaynemouth, MD 07033   \n",
       "9  Mrs. Rebekah Bates   F      60286 Black Falls\\nEast Gregoryview, LA 94722   \n",
       "\n",
       "                       mail   birthdate  \n",
       "0  pettymatthew@hotmail.com  1912-03-25  \n",
       "1   williamsdavid@gmail.com  1975-05-16  \n",
       "2        leeaaron@gmail.com  1928-12-29  \n",
       "3          lisa17@yahoo.com  1995-10-22  \n",
       "4     smithnicole@gmail.com  1980-02-04  \n",
       "5         nhardin@gmail.com  1955-08-28  \n",
       "6      ruthreilly@gmail.com  1946-01-17  \n",
       "7    mooreanthony@yahoo.com  1921-01-02  \n",
       "8    taramitchell@gmail.com  1929-07-19  \n",
       "9          cory41@gmail.com  1950-05-04  "
      ]
     },
     "execution_count": 43,
     "metadata": {},
     "output_type": "execute_result"
    }
   ],
   "source": [
    "pd.DataFrame([fake.profile() for _ in range(10)])\n",
    "\n"
   ]
  },
  {
   "cell_type": "code",
   "execution_count": 23,
   "id": "a00e0fec",
   "metadata": {},
   "outputs": [
    {
     "data": {
      "text/plain": [
       "datetime.date(1917, 7, 28)"
      ]
     },
     "execution_count": 23,
     "metadata": {},
     "output_type": "execute_result"
    }
   ],
   "source": [
    "fake.date_of_birth()"
   ]
  },
  {
   "cell_type": "code",
   "execution_count": 24,
   "id": "d63e0768",
   "metadata": {},
   "outputs": [],
   "source": [
    "for _ in range(5):\n",
    "    fake.csv(data_columns=('{{name}}', '{{date_of_birth}}'), num_rows=10, include_row_ids=False)\n"
   ]
  },
  {
   "cell_type": "code",
   "execution_count": 25,
   "id": "fcf55ea1",
   "metadata": {},
   "outputs": [],
   "source": [
    "for _ in range(5):\n",
    "    fake.csv(header=('Name', 'Address', 'Favorite Color'), data_columns=('{{name}}', '{{address}}', '{{safe_color_name}}'), num_rows=10, include_row_ids=False)"
   ]
  },
  {
   "cell_type": "code",
   "execution_count": 26,
   "id": "f9628644",
   "metadata": {},
   "outputs": [],
   "source": [
    "for _ in range(5):\n",
    "    fake.dsv(dialect='excel', data_columns=('{{name}}', '{{address}}'))"
   ]
  },
  {
   "cell_type": "code",
   "execution_count": null,
   "id": "07cd1d0f",
   "metadata": {},
   "outputs": [],
   "source": []
  }
 ],
 "metadata": {
  "kernelspec": {
   "display_name": "Python 3",
   "language": "python",
   "name": "python3"
  },
  "language_info": {
   "codemirror_mode": {
    "name": "ipython",
    "version": 3
   },
   "file_extension": ".py",
   "mimetype": "text/x-python",
   "name": "python",
   "nbconvert_exporter": "python",
   "pygments_lexer": "ipython3",
   "version": "3.8.5"
  },
  "varInspector": {
   "cols": {
    "lenName": 16,
    "lenType": 16,
    "lenVar": 40
   },
   "kernels_config": {
    "python": {
     "delete_cmd_postfix": "",
     "delete_cmd_prefix": "del ",
     "library": "var_list.py",
     "varRefreshCmd": "print(var_dic_list())"
    },
    "r": {
     "delete_cmd_postfix": ") ",
     "delete_cmd_prefix": "rm(",
     "library": "var_list.r",
     "varRefreshCmd": "cat(var_dic_list()) "
    }
   },
   "types_to_exclude": [
    "module",
    "function",
    "builtin_function_or_method",
    "instance",
    "_Feature"
   ],
   "window_display": false
  }
 },
 "nbformat": 4,
 "nbformat_minor": 5
}
