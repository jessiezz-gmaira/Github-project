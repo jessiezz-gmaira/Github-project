{
 "cells": [
  {
   "cell_type": "code",
   "execution_count": 1,
   "metadata": {},
   "outputs": [],
   "source": [
    "# import pyodbc\n",
    "import pandas as pd\n",
    "from datetime import date\n",
    "from datetime import timedelta\n",
    "from openpyxl import load_workbook\n",
    "import openpyxl\n",
    "import win32com.client as win32\n",
    "import os\n",
    "import glob2\n",
    "from pathlib import Path"
   ]
  },
  {
   "cell_type": "code",
   "execution_count": 20,
   "metadata": {},
   "outputs": [],
   "source": [
    "# closes all excel files\n",
    "def closeFile():\n",
    "    try:\n",
    "        os.system('TASKKILL /F /IM excel.exe')\n",
    "\n",
    "    except Exception:\n",
    "        print(\"KU\")\n",
    "\n",
    "closeFile()"
   ]
  },
  {
   "cell_type": "markdown",
   "metadata": {},
   "source": [
    "### update Sharepoint lists"
   ]
  },
  {
   "cell_type": "code",
   "execution_count": 23,
   "metadata": {},
   "outputs": [],
   "source": [
    "path1 = r'C:\\Users\\GisselleMaira\\Desktop\\Sharepoint\\OpportunityList2.xlsx'\n",
    "path2 = r'C:\\Users\\GisselleMaira\\Desktop\\Sharepoint\\ClosedOpps.xlsx'\n",
    "\n",
    "# directory = 'C:\\\\Users\\\\GisselleMaira\\\\Desktop\\\\Sharepoint'\n",
    "# files  = os.listdir(directory)[0:2]"
   ]
  },
  {
   "cell_type": "code",
   "execution_count": 22,
   "metadata": {},
   "outputs": [],
   "source": [
    "xla = win32.DispatchEx(\"Excel.Application\")\n",
    "xla.CalculateUntilAsyncQueriesDone()\n",
    "xla.DisplayAlerts = False\n",
    "xla.Visible = True\n",
    "wb1=xla.Workbooks.Open(Filename=path1)\n",
    "wb1.RefreshAll()\n",
    "wb1.Save()\n",
    "wb1.Close()\n",
    "xla.Quit()\n",
    "\n",
    "# xlapp.Quit()\n",
    "# wbCloseA = xla.Workbooks.Close()\n",
    "# wb.Close(True, r'C:\\Path\\to\\folder\\Test.xlsx')"
   ]
  },
  {
   "cell_type": "code",
   "execution_count": 24,
   "metadata": {},
   "outputs": [],
   "source": [
    "xl = win32.DispatchEx(\"Excel.Application\")\n",
    "xl.CalculateUntilAsyncQueriesDone()\n",
    "xl.DisplayAlerts = False\n",
    "xl.Visible = True\n",
    "wb2= xl.Workbooks.Open(Filename=path2)\n",
    "wb2.RefreshAll()\n",
    "wb2.Save()\n",
    "wb2.Close()\n",
    "xl.Quit()"
   ]
  },
  {
   "cell_type": "code",
   "execution_count": 27,
   "metadata": {},
   "outputs": [],
   "source": [
    "# read refreshed data\n",
    "opps = pd.read_excel(path1)\n",
    "closed = pd.read_excel(path2)\n"
   ]
  },
  {
   "cell_type": "code",
   "execution_count": 37,
   "metadata": {},
   "outputs": [],
   "source": [
    "# closed_hist = closed[closed['Active?'] == False].drop(['ID', 'Item Type', 'Path'],1)\n",
    "# closed_hist.to_excel(r'C:\\Users\\GisselleMaira\\Desktop\\closed_hist.xlsx', index = None, header=True)"
   ]
  },
  {
   "cell_type": "code",
   "execution_count": 112,
   "metadata": {},
   "outputs": [
    {
     "data": {
      "text/plain": [
       "datetime.date(2022, 1, 18)"
      ]
     },
     "execution_count": 112,
     "metadata": {},
     "output_type": "execute_result"
    }
   ],
   "source": [
    "date.today()  + timedelta(days=-1)"
   ]
  },
  {
   "cell_type": "code",
   "execution_count": 113,
   "metadata": {},
   "outputs": [],
   "source": [
    "history1 = pd.read_excel( r'C:\\Users\\GisselleMaira\\Desktop\\Opps_History.xlsx')\n",
    "history2 = pd.read_excel( r'C:\\Users\\GisselleMaira\\Desktop\\closed_hist.xlsx')\n",
    "# history2['saved on'] = date.today()  + timedelta(days=-1)"
   ]
  },
  {
   "cell_type": "code",
   "execution_count": 80,
   "metadata": {},
   "outputs": [
    {
     "data": {
      "text/plain": [
       "both          54\n",
       "right_only     0\n",
       "left_only      0\n",
       "Name: _merge, dtype: int64"
      ]
     },
     "execution_count": 80,
     "metadata": {},
     "output_type": "execute_result"
    }
   ],
   "source": [
    "# see what's changed for active\n",
    "df_left_active = opps.merge(history1.drop_duplicates(), on=['Client Company', 'Opportunity/Project Name',\\\n",
    "                                                            'Notes', 'Modified', 'Win Likelihood','On hold'], \n",
    "                                how='left', indicator=True)\n",
    "\n",
    "df_left_active['_merge'].value_counts()"
   ]
  },
  {
   "cell_type": "code",
   "execution_count": 82,
   "metadata": {},
   "outputs": [],
   "source": [
    "# changed_active = df_left_active[df_left_active['_merge'] == 'left_only']\n",
    "# changed_items_active = opps.iloc[changed_active.index, :]\n",
    "# all_active = pd.concat([history1, changed_items_active], axis=0)"
   ]
  },
  {
   "cell_type": "code",
   "execution_count": 114,
   "metadata": {},
   "outputs": [
    {
     "data": {
      "text/plain": [
       "both          281\n",
       "left_only      54\n",
       "right_only      0\n",
       "Name: _merge, dtype: int64"
      ]
     },
     "execution_count": 114,
     "metadata": {},
     "output_type": "execute_result"
    }
   ],
   "source": [
    "# see what's changed for closed\n",
    "df_left_closed = closed.merge(history2.drop_duplicates(), on=['Client Company', 'Opportunity/Project Name',\\\n",
    "                                                            'Notes', 'Modified'], how='left', indicator=True)\n",
    "\n",
    "df_left_closed['_merge'].value_counts()"
   ]
  },
  {
   "cell_type": "code",
   "execution_count": 109,
   "metadata": {},
   "outputs": [],
   "source": [
    "changed_closed = df_left_closed[df_left_closed['_merge'] == 'left_only']\n",
    "closed_edit = closed.drop(['ID','Item Type', 'Path'], 1)\n",
    "changed_items_closed = closed_edit.iloc[changed_closed.index, :]\n"
   ]
  },
  {
   "cell_type": "code",
   "execution_count": 115,
   "metadata": {},
   "outputs": [
    {
     "name": "stderr",
     "output_type": "stream",
     "text": [
      "<ipython-input-115-a76659857223>:1: SettingWithCopyWarning: \n",
      "A value is trying to be set on a copy of a slice from a DataFrame.\n",
      "Try using .loc[row_indexer,col_indexer] = value instead\n",
      "\n",
      "See the caveats in the documentation: https://pandas.pydata.org/pandas-docs/stable/user_guide/indexing.html#returning-a-view-versus-a-copy\n",
      "  changed_items_closed['saved on'] = date.today()\n"
     ]
    }
   ],
   "source": [
    "changed_items_closed['saved on'] = date.today() \n",
    "all_closed = pd.concat([history2, changed_items_closed], axis=0)"
   ]
  },
  {
   "cell_type": "code",
   "execution_count": null,
   "metadata": {},
   "outputs": [],
   "source": [
    "all_closed.to_excel(r'C:\\Users\\GisselleMaira\\Desktop\\closed_hist.xlsx')\n",
    "all_active.to_excel(r'C:\\Users\\GisselleMaira\\Desktop\\Opps_History.xlsx')\n",
    "\n"
   ]
  },
  {
   "cell_type": "code",
   "execution_count": null,
   "metadata": {},
   "outputs": [],
   "source": [
    "Active = opps['Active?'].count()\n",
    "today = date.today()\n",
    "now = datetime.now()\n",
    "last_sunday  = today + timedelta(days=-today.weekday()-1, weeks=0)\n",
    "\n"
   ]
  },
  {
   "cell_type": "code",
   "execution_count": null,
   "metadata": {},
   "outputs": [],
   "source": [
    "opps = opps.sort_values(by ='Created', ascending=False)\n",
    "\n",
    "new = opps[opps['Created'] >= pd.Timestamp(last_monday )].shape[0]\n",
    "\n",
    "LatestDate = opps['Created'].max()"
   ]
  },
  {
   "cell_type": "code",
   "execution_count": null,
   "metadata": {},
   "outputs": [],
   "source": [
    "outlook = win32.Dispatch('outlook.application')\n",
    "    \n",
    "mail = outlook.CreateItem(0)\n",
    "# mail.To = 'paul.blodgett@spinnakerconsultinggroup.com'\n",
    "mail.cc = 'gisselle.maira@spinnakerconsultinggroup.com'\n",
    "mail.Subject = 'Opportunity update'\n",
    "    \n",
    "mail.Body = f\"\"\"Last week (wk ending {last_sunday}) there were {new} new opportunties and {Active} total opportunities.\n",
    "    \n",
    "The last item created was entered at {LatestDate}.  Sent {now}.\"\"\"\n",
    "    \n",
    "mail.Send()   "
   ]
  },
  {
   "cell_type": "code",
   "execution_count": null,
   "metadata": {},
   "outputs": [],
   "source": [
    "# book = load_workbook(path)\n",
    "# writer = pd.ExcelWriter(path, engine = 'openpyxl')\n",
    "# writer.book = book\n",
    "\n",
    "# all_data.to_excel(writer, sheet_name = 'x3')\n",
    "\n",
    "# writer.save()\n",
    "# writer.close()"
   ]
  },
  {
   "cell_type": "code",
   "execution_count": null,
   "metadata": {},
   "outputs": [],
   "source": [
    "#     query_string = \"\"\"SELECT * \n",
    "# FROM sec_edgar_searchqueryresult sqr\n",
    "# JOIN sec_edgar_searchqueryterm sqt ON sqt.id = sqr.term_id\n",
    "# JOIN sec_edgar_filingdocument fd ON fd.id = sqr.filing_document_id\n",
    "# JOIN sec_edgar_filing f ON f.id = fd.filing_id\n",
    "# JOIN sec_edgar_companyinfo ci ON ci.company_id = f.company_id AND ci.date = f.date_filed \n",
    "# WHERE sqr.search_query_id = {0}\n",
    "# ORDER BY f.date_filed, f.company_id\n",
    "# \"\"\".format(search_query_id)\n",
    "#     query_df = pandas.read_sql(query_string, conn)"
   ]
  },
  {
   "cell_type": "code",
   "execution_count": null,
   "metadata": {},
   "outputs": [],
   "source": []
  },
  {
   "cell_type": "markdown",
   "metadata": {},
   "source": [
    "## CREATE NEW TABLE"
   ]
  },
  {
   "cell_type": "code",
   "execution_count": null,
   "metadata": {},
   "outputs": [],
   "source": [
    "# CREATE NEW TABLE\n",
    "# cursor.execute('create table new_table_name (\n",
    "#                                              column1 datatype,\n",
    "#                                              column2 datatype,\n",
    "#                                              column3 datatype,\n",
    "#                                              ....\n",
    "#                                              )')\n",
    "# cursor.commit()"
   ]
  },
  {
   "cell_type": "code",
   "execution_count": null,
   "metadata": {},
   "outputs": [],
   "source": [
    "# cursor.execute('select * into new_table_name'\n",
    "#                'from [Excel 12.0 Xml;HDR=YES;IMEX=2;ACCDB=YES;DATABASE=E:\\PythonInOffice\\python_connect_to_ms_access\\richest10.xlsx].[Sheet1$]')\n",
    "\n",
    "# cursor.commit()"
   ]
  },
  {
   "cell_type": "code",
   "execution_count": null,
   "metadata": {},
   "outputs": [],
   "source": [
    "# cursor.execute('select * into new_table_name'\n",
    "#                'from [Excel 12.0 Xml;HDR=YES;IMEX=2;ACCDB=YES;DATABASE=E:\\PythonInOffice\\python_connect_to_ms_access\\richest10.xlsx].[Sheet1$]')\n",
    "\n",
    "# cursor.commit()\n",
    "\n",
    "# # #######################ALT EXCEL CONNECTION WITH AUTOCOMMIT############################\n",
    "# conn1 = pyodbc.connect('DRIVER={Microsoft Excel Driver \\ \n",
    "#                        (*.xls)};DBQ='+exFile,autocommit=True)\n",
    "\n",
    "# # APPEND TO LOCAL TABLE\n",
    "# sql = \"\"\"INSERT INTO ETABS\n",
    "#          SELECT * FROM [Excel 12.0 Xml; HDR = Yes;Database={myfile}].[Sheet1$];\n",
    "#       \"\"\"\n",
    "\n",
    "# curs = conn.cursor()\n",
    "# curs.execute(sql.format(myfile = exFile))\n",
    "# conn.commit()"
   ]
  },
  {
   "cell_type": "markdown",
   "metadata": {},
   "source": [
    "## DELETE OPTIONS"
   ]
  },
  {
   "cell_type": "code",
   "execution_count": null,
   "metadata": {},
   "outputs": [],
   "source": [
    "# checks for driver\n",
    "# [i for i in pyodbc.drivers() if i.startswith('Microsoft Access Driver')]\n",
    "# ['Microsoft Access Driver (*.mdb, *.accdb)'] 64-bit\n",
    "# Microsoft Access Driver (*.mdb) 32-bit\n",
    "\n",
    "# DBFile = r'C:\\Users\\GisselleMaira\\Documents\\SLT_data.accdb'\n",
    "# exFile = r'C:\\Users\\GisselleMaira\\Desktop\\OpportunityList2.xlsx'\n",
    "\n",
    "# connect to Access\n",
    "# conn = pyodbc.connect('DRIVER={Microsoft Access Driver (*.mdb, *.accdb)};DBQ='+DBFile)\n",
    "# cursor = conn.cursor()\n",
    "\n",
    "# get available tables\n",
    "# cursor = conn.cursor()\n",
    "# for i in cursor.tables(tableType='TABLE'):\n",
    "#     print(i.table_name)\n",
    "\n",
    "    # for i in cursor.tables(tableType='VIEW'):\n",
    "#     print(i.table_name)\n",
    "\n",
    "#Run SQL statement\n",
    "# cursor.execute('select * from Opps_All')\n",
    "# rows = cursor.fetchall()\n",
    "# #get one row\n",
    "# one_row = cursor.fetchone()\n",
    "\n",
    "# df = pd.read_sql('select * from Opps_Active', conn)\n",
    "# df = df.drop(['ID1', 'Path', 'Date Added'], 1)"
   ]
  },
  {
   "cell_type": "code",
   "execution_count": null,
   "metadata": {},
   "outputs": [],
   "source": [
    "# # #######################   DELETE TABLE ############################\n",
    "# cursor.execute('DROP TABLE table_name')\n",
    "# cursor.commit()\n",
    "\n",
    "# # #######################   DELETE ROWS ############################\n",
    "# cursor.execute('DELETE FROM table_name'\n",
    "#                'WHERE condition')\n",
    "# cursor.commit()"
   ]
  },
  {
   "cell_type": "markdown",
   "metadata": {},
   "source": [
    "## INSERT/UPDATE"
   ]
  },
  {
   "cell_type": "code",
   "execution_count": null,
   "metadata": {},
   "outputs": [],
   "source": [
    "# cursor.execute('INSERT INTO table_name (column1, column2, column3 ...)'\n",
    "#                'VALUES ('value1', 'value2', 'value3' ...)')\n",
    "# cursor.commit()\n",
    "\n",
    "# cursor.execute('UPDATE table_name'\n",
    "#                'SET column1 = value1, column2 = value2, ...'\n",
    "#                'WHERE condition')\n",
    "# cursor.commit()\n",
    "\n",
    "# curs.executemany('insert into mytable (mycolumn) values (?)', excel_results)\n",
    "# conn.commit()\n",
    "\n",
    "# # get column names\n",
    "# for row in curs1.tables():\n",
    "#     print row.table_name"
   ]
  }
 ],
 "metadata": {
  "kernelspec": {
   "display_name": "Python 3",
   "language": "python",
   "name": "python3"
  },
  "language_info": {
   "codemirror_mode": {
    "name": "ipython",
    "version": 3
   },
   "file_extension": ".py",
   "mimetype": "text/x-python",
   "name": "python",
   "nbconvert_exporter": "python",
   "pygments_lexer": "ipython3",
   "version": "3.8.5"
  }
 },
 "nbformat": 4,
 "nbformat_minor": 4
}
