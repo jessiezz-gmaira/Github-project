{
 "cells": [
  {
   "cell_type": "code",
   "execution_count": 3,
   "id": "c6bcf2f6",
   "metadata": {},
   "outputs": [],
   "source": [
    "import itertools\n",
    "import pandas as pd \n",
    "import random"
   ]
  },
  {
   "cell_type": "code",
   "execution_count": 8,
   "id": "be5e0e1b",
   "metadata": {},
   "outputs": [
    {
     "data": {
      "text/plain": [
       "[1, 2, 3, 4, 5, 6, 7, 8, 9, 10, 11, 12, 13, 14, 15, 16, 17, 18, 19, 20]"
      ]
     },
     "execution_count": 8,
     "metadata": {},
     "output_type": "execute_result"
    }
   ],
   "source": [
    "# num = list(range(1,21))\n",
    "\n",
    "# platforms = [\"Platform\"+str(i) for i in range(1, 21)]\n",
    "\n",
    "# Capability = [\"Capability\"+str(i) for i in range(1, 21)]"
   ]
  },
  {
   "cell_type": "code",
   "execution_count": 7,
   "id": "696cbbb7",
   "metadata": {},
   "outputs": [],
   "source": [
    "Capability = ['CCM','CCA','CCH','SOC-R','CRRC SK (PR)', 'SDV MK-8','SDV MK-11','DCS Block 1','DCS Block 2']\n",
    "\n",
    "Platform = ['Modular Payload A Kit ','Assured Position, Navigation & Timing','Link-16','Integrated Broadcast Systems',\n",
    "            'Next Generation Multi-band', 'SATCOM DOD', 'SATCOM Commercial','Blue Force Tracker','Personnel Recovery',\n",
    "            'Identification Friend or Foe', 'Special Comms','Tactical Assualt Kit MCS \"\"Edge\"',\n",
    "            'High-performance Edge Computing','DCGS','COMINT','ELINT FPI&W', 'Cyber','Tethered Multi-rotor',\n",
    "            'Nova 2','Sky Raider ','Glidecopter','Watercopter','RQ-20 Puma','Skydio X2D','MQ-27 ScanEagle',\n",
    "            'MQ- _ _ V-Bat','RQ-21 Blackjack','Iver UUV','MK-18 Mod 1 Remus 100 UUV','Wave Glider USV',\n",
    "            'SeaSat USV','Adaro USV']\n",
    "\n",
    "categories = ['C4 Systems',\n",
    "'C4 Systems',\n",
    "'C4 Systems',\n",
    "'C4 Systems',\n",
    "'C4 Systems',\n",
    "'C4 Systems',\n",
    "'C4 Systems',\n",
    "'C4 Systems',\n",
    "'C4 Systems',\n",
    "'C4 Systems',\n",
    "'C4 Systems',\n",
    "'C4 Systems',\n",
    "'C4 Systems',\n",
    "'Intel & EW Systems',\n",
    "'Intel & EW Systems',\n",
    "'Intel & EW Systems',\n",
    "'Intel & EW Systems',\n",
    "'Unmanned Systems',\n",
    "'Unmanned Systems',\n",
    "'Unmanned Systems',\n",
    "'Unmanned Systems',\n",
    "'Unmanned Systems',\n",
    "'Unmanned Systems',\n",
    "'Unmanned Systems',\n",
    "'Unmanned Systems',\n",
    "'Unmanned Systems',\n",
    "'Unmanned Systems',\n",
    "'Unmanned Systems',\n",
    "'Unmanned Systems',\n",
    "'Unmanned Systems',\n",
    "'Unmanned Systems',\n",
    "'Unmanned Systems'\n",
    "]"
   ]
  },
  {
   "cell_type": "code",
   "execution_count": 34,
   "id": "edabfee8",
   "metadata": {},
   "outputs": [],
   "source": [
    "first_set = pd.DataFrame(list(zip(categories, Platform)), columns = ['Category', 'Platform'])\n",
    "\n",
    "second_set = pd.DataFrame(itertools.product(Platform, Capability), columns = ['Platform', 'Capability'])\n",
    "\n",
    "join = pd.merge(first_set, second_set, on = 'Platform')\n"
   ]
  },
  {
   "cell_type": "code",
   "execution_count": 35,
   "id": "3d21076f",
   "metadata": {},
   "outputs": [
    {
     "data": {
      "text/html": [
       "<div>\n",
       "<style scoped>\n",
       "    .dataframe tbody tr th:only-of-type {\n",
       "        vertical-align: middle;\n",
       "    }\n",
       "\n",
       "    .dataframe tbody tr th {\n",
       "        vertical-align: top;\n",
       "    }\n",
       "\n",
       "    .dataframe thead th {\n",
       "        text-align: right;\n",
       "    }\n",
       "</style>\n",
       "<table border=\"1\" class=\"dataframe\">\n",
       "  <thead>\n",
       "    <tr style=\"text-align: right;\">\n",
       "      <th></th>\n",
       "      <th>Category</th>\n",
       "      <th>Platform</th>\n",
       "      <th>Capability</th>\n",
       "    </tr>\n",
       "  </thead>\n",
       "  <tbody>\n",
       "    <tr>\n",
       "      <th>0</th>\n",
       "      <td>C4 Systems</td>\n",
       "      <td>Modular Payload A Kit</td>\n",
       "      <td>CCM</td>\n",
       "    </tr>\n",
       "    <tr>\n",
       "      <th>1</th>\n",
       "      <td>C4 Systems</td>\n",
       "      <td>Modular Payload A Kit</td>\n",
       "      <td>CCA</td>\n",
       "    </tr>\n",
       "    <tr>\n",
       "      <th>2</th>\n",
       "      <td>C4 Systems</td>\n",
       "      <td>Modular Payload A Kit</td>\n",
       "      <td>CCH</td>\n",
       "    </tr>\n",
       "    <tr>\n",
       "      <th>3</th>\n",
       "      <td>C4 Systems</td>\n",
       "      <td>Modular Payload A Kit</td>\n",
       "      <td>SOC-R</td>\n",
       "    </tr>\n",
       "    <tr>\n",
       "      <th>4</th>\n",
       "      <td>C4 Systems</td>\n",
       "      <td>Modular Payload A Kit</td>\n",
       "      <td>CRRC SK (PR)</td>\n",
       "    </tr>\n",
       "  </tbody>\n",
       "</table>\n",
       "</div>"
      ],
      "text/plain": [
       "     Category                Platform    Capability\n",
       "0  C4 Systems  Modular Payload A Kit            CCM\n",
       "1  C4 Systems  Modular Payload A Kit            CCA\n",
       "2  C4 Systems  Modular Payload A Kit            CCH\n",
       "3  C4 Systems  Modular Payload A Kit          SOC-R\n",
       "4  C4 Systems  Modular Payload A Kit   CRRC SK (PR)"
      ]
     },
     "execution_count": 35,
     "metadata": {},
     "output_type": "execute_result"
    }
   ],
   "source": [
    "join.head()"
   ]
  },
  {
   "cell_type": "code",
   "execution_count": 36,
   "id": "9a19b45a",
   "metadata": {},
   "outputs": [],
   "source": [
    "join.to_excel(r\"C:\\Users\\GisselleMaira\\Desktop\\Power BI\\Hard Yards\\PlatformCapability.xlsx\", index=False) "
   ]
  },
  {
   "cell_type": "code",
   "execution_count": null,
   "id": "781be1c5",
   "metadata": {},
   "outputs": [],
   "source": [
    "# C:\\Users\\GisselleMaira\\Desktop\\Power BI\\Hard Yards"
   ]
  }
 ],
 "metadata": {
  "kernelspec": {
   "display_name": "Python 3",
   "language": "python",
   "name": "python3"
  },
  "language_info": {
   "codemirror_mode": {
    "name": "ipython",
    "version": 3
   },
   "file_extension": ".py",
   "mimetype": "text/x-python",
   "name": "python",
   "nbconvert_exporter": "python",
   "pygments_lexer": "ipython3",
   "version": "3.8.5"
  },
  "varInspector": {
   "cols": {
    "lenName": 16,
    "lenType": 16,
    "lenVar": 40
   },
   "kernels_config": {
    "python": {
     "delete_cmd_postfix": "",
     "delete_cmd_prefix": "del ",
     "library": "var_list.py",
     "varRefreshCmd": "print(var_dic_list())"
    },
    "r": {
     "delete_cmd_postfix": ") ",
     "delete_cmd_prefix": "rm(",
     "library": "var_list.r",
     "varRefreshCmd": "cat(var_dic_list()) "
    }
   },
   "types_to_exclude": [
    "module",
    "function",
    "builtin_function_or_method",
    "instance",
    "_Feature"
   ],
   "window_display": false
  }
 },
 "nbformat": 4,
 "nbformat_minor": 5
}
