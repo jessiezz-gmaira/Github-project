{
 "cells": [
  {
   "cell_type": "code",
   "execution_count": 1,
   "metadata": {},
   "outputs": [],
   "source": [
    "import configparser\n",
    "\n",
    "config = configparser.ConfigParser()\n",
    "config.read(r'C:\\Users\\GisselleMaira\\test.ini')\n",
    "\n",
    "import json\n",
    "import os\n",
    "import pandas as pd\n",
    "import numpy as np\n",
    "import datetime\n",
    "from datetime import date\n",
    "from datetime import datetime, timedelta\n",
    "import shutil\n",
    "import glob\n",
    "import os.path\n",
    "import os\n",
    "import time\n",
    "import urllib.request\n",
    "import requests"
   ]
  },
  {
   "cell_type": "code",
   "execution_count": 2,
   "metadata": {},
   "outputs": [],
   "source": [
    "dates = pd.read_excel (r'C:\\Users\\GisselleMaira\\Desktop\\SLT Docs\\SeniorityReport.xlsx')\n",
    "\n",
    "dates['user_name'] = dates['Preferred/First Name'] + ' ' + dates['Last Name'] \n",
    "\n",
    "\n",
    "dates.drop(['Last Name', 'Preferred/First Name', 'Tenure (In English)',  'Tenure (in Months)'], 1, inplace = True)\n",
    "\n",
    "# dates.rename(columns = {'Hire Date':'Hire', 'Termination Date':'Term'})\n"
   ]
  },
  {
   "cell_type": "code",
   "execution_count": 3,
   "metadata": {},
   "outputs": [],
   "source": [
    "today = date.today()\n",
    "this_wk = today + timedelta(days=-today.weekday(), weeks=0)\n",
    "start = today + timedelta(days=-today.weekday(), weeks=-21)\n",
    "\n",
    "datelist = pd.date_range(start = start, periods = 21, freq='W-MON').tolist()\n",
    "# datelist2 = pd.date_range(start = start, periods = 13, freq='W-SUN').tolist()\n",
    "newdates = [d.strftime('%m-%d-%Y') for d in datelist]\n",
    "\n",
    "active = datetime(2025, 1, 1)\n"
   ]
  },
  {
   "cell_type": "code",
   "execution_count": 4,
   "metadata": {},
   "outputs": [],
   "source": [
    "newdates = pd.DataFrame(newdates) \n",
    "newdates['key'] = 1\n",
    "dates['key'] = 1\n",
    "\n",
    "dates2 = pd.merge(dates, newdates, on = 'key').drop('key', 1)"
   ]
  },
  {
   "cell_type": "code",
   "execution_count": 5,
   "metadata": {},
   "outputs": [],
   "source": [
    "# dates2['end'] = dates2['Termination Date']\n",
    "dates2.rename(columns={'Termination Date': 'end'}, inplace=True)\n",
    "dates2[\"end\"].fillna(active, inplace = True)\n",
    "\n",
    "dates2['Active'] = 0\n",
    "dates2['date']= pd.to_datetime(dates2[0])\n",
    "\n",
    "# add 1 to Active if not term or dates before term\n",
    "dates2.drop([0], 1, inplace=True)\n",
    "dates2.loc[(dates2['Hire Date'] <= dates2['date']) & (dates2['end'] >= dates2['date']), 'Active'] = 1\n",
    "\n",
    "# for i in range(0, len(datelist)):\n",
    "#     dates[newdates[i]] = 0\n",
    "    \n",
    "#     dates.loc[(dates['Hire Date'] <= datelist[i]) &\n",
    "#              (dates['end'] >= datelist[i]), newdates[i]] = 1"
   ]
  },
  {
   "cell_type": "code",
   "execution_count": 7,
   "metadata": {},
   "outputs": [],
   "source": [
    "# pull API data for roles\n",
    "\n",
    "acct = config['api']['account']\n",
    "token = config['api']['token']\n",
    "\n",
    "payload={}\n",
    "headers = {\n",
    "  'Harvest-Account-Id': acct,\n",
    "  'Authorization': token\n",
    "}"
   ]
  },
  {
   "cell_type": "code",
   "execution_count": 8,
   "metadata": {},
   "outputs": [
    {
     "name": "stdout",
     "output_type": "stream",
     "text": [
      "Requesting https://api.harvestapp.com/v2/users?page=1&per_page=100\n",
      "Requesting https://api.harvestapp.com/v2/users?page=2&per_page=100&ref=next\n"
     ]
    }
   ],
   "source": [
    "URL_users = f\"https://api.harvestapp.com/v2/users?page=1&per_page=100\"\n",
    "all_users = []\n",
    "\n",
    "while URL_users:\n",
    "    print('Requesting', URL_users)\n",
    "    \n",
    "    response_users = requests.request(\"GET\", URL_users, headers=headers, data=payload).text\n",
    "    data_json_users  = json.loads(response_users)['users']\n",
    "    all_users.extend(data_json_users)\n",
    "    \n",
    "    URL_users = json.loads(response_users)['links']['next']"
   ]
  },
  {
   "cell_type": "code",
   "execution_count": 9,
   "metadata": {},
   "outputs": [],
   "source": [
    "users = pd.json_normalize(all_users,max_level=1)[['first_name','last_name', 'email','roles']]\n",
    "users2 = users.explode('roles')\n",
    "users2['user_name'] = users2['first_name'] + ' ' + users2['last_name']\n",
    "users2.drop(['first_name', 'last_name', 'email'], 1, inplace =True)\n",
    "users2.reset_index(drop=True, inplace=True)"
   ]
  },
  {
   "cell_type": "code",
   "execution_count": 10,
   "metadata": {},
   "outputs": [],
   "source": [
    "users2.drop(users2.loc[users2['user_name'].isin(['Parker Barouch', 'Kevin Baquero']) & \n",
    "                       (users2['roles'] == 'Flying Phase')].index, inplace = True)\n",
    "\n",
    "# users2.loc[users2['user_name'].isin(['Parker Barouch', 'Kevin Baquero']) ]"
   ]
  },
  {
   "cell_type": "code",
   "execution_count": 11,
   "metadata": {},
   "outputs": [],
   "source": [
    "role1 = users2[users2['roles'].isin(['Advisor', 'Consultant'])]\n",
    "\n",
    "role2 = users2[users2['roles'].isin(['CCOM', 'Risk', 'Data and Analytics','Flying Phase'])]\n",
    "\n",
    "user_roles = pd.merge(role1, role2, on='user_name', how='left')\n",
    "\n",
    "user_roles = user_roles.rename(columns = {'roles_x': 'role', 'roles_y': 'BusUnit'})"
   ]
  },
  {
   "cell_type": "code",
   "execution_count": 15,
   "metadata": {
    "scrolled": true
   },
   "outputs": [],
   "source": [
    "empcounts = pd.merge(dates2, user_roles, on='user_name', how='left')\n",
    "\n",
    "empcounts2 = empcounts[['user_name', 'role', 'BusUnit', 'Hire Date', 'end', 'date', 'Active']] \n",
    "\n",
    "empcounts2.to_excel( r'C:\\Users\\GisselleMaira\\Desktop\\SLT Docs\\DashboardData\\empcount.xlsx', index = False)"
   ]
  },
  {
   "cell_type": "code",
   "execution_count": 16,
   "metadata": {},
   "outputs": [
    {
     "data": {
      "text/html": [
       "<div>\n",
       "<style scoped>\n",
       "    .dataframe tbody tr th:only-of-type {\n",
       "        vertical-align: middle;\n",
       "    }\n",
       "\n",
       "    .dataframe tbody tr th {\n",
       "        vertical-align: top;\n",
       "    }\n",
       "\n",
       "    .dataframe thead th {\n",
       "        text-align: right;\n",
       "    }\n",
       "</style>\n",
       "<table border=\"1\" class=\"dataframe\">\n",
       "  <thead>\n",
       "    <tr style=\"text-align: right;\">\n",
       "      <th></th>\n",
       "      <th>user_name</th>\n",
       "      <th>role</th>\n",
       "      <th>BusUnit</th>\n",
       "      <th>Hire Date</th>\n",
       "      <th>end</th>\n",
       "      <th>date</th>\n",
       "      <th>Active</th>\n",
       "    </tr>\n",
       "  </thead>\n",
       "  <tbody>\n",
       "    <tr>\n",
       "      <th>0</th>\n",
       "      <td>Shawn Sweeney</td>\n",
       "      <td>NaN</td>\n",
       "      <td>NaN</td>\n",
       "      <td>2016-12-28</td>\n",
       "      <td>2025-01-01</td>\n",
       "      <td>2021-09-13</td>\n",
       "      <td>1</td>\n",
       "    </tr>\n",
       "    <tr>\n",
       "      <th>1</th>\n",
       "      <td>Shawn Sweeney</td>\n",
       "      <td>NaN</td>\n",
       "      <td>NaN</td>\n",
       "      <td>2016-12-28</td>\n",
       "      <td>2025-01-01</td>\n",
       "      <td>2021-09-20</td>\n",
       "      <td>1</td>\n",
       "    </tr>\n",
       "    <tr>\n",
       "      <th>2</th>\n",
       "      <td>Shawn Sweeney</td>\n",
       "      <td>NaN</td>\n",
       "      <td>NaN</td>\n",
       "      <td>2016-12-28</td>\n",
       "      <td>2025-01-01</td>\n",
       "      <td>2021-09-27</td>\n",
       "      <td>1</td>\n",
       "    </tr>\n",
       "    <tr>\n",
       "      <th>3</th>\n",
       "      <td>Shawn Sweeney</td>\n",
       "      <td>NaN</td>\n",
       "      <td>NaN</td>\n",
       "      <td>2016-12-28</td>\n",
       "      <td>2025-01-01</td>\n",
       "      <td>2021-10-04</td>\n",
       "      <td>1</td>\n",
       "    </tr>\n",
       "    <tr>\n",
       "      <th>4</th>\n",
       "      <td>Shawn Sweeney</td>\n",
       "      <td>NaN</td>\n",
       "      <td>NaN</td>\n",
       "      <td>2016-12-28</td>\n",
       "      <td>2025-01-01</td>\n",
       "      <td>2021-10-11</td>\n",
       "      <td>1</td>\n",
       "    </tr>\n",
       "  </tbody>\n",
       "</table>\n",
       "</div>"
      ],
      "text/plain": [
       "       user_name role BusUnit  Hire Date        end       date  Active\n",
       "0  Shawn Sweeney  NaN     NaN 2016-12-28 2025-01-01 2021-09-13       1\n",
       "1  Shawn Sweeney  NaN     NaN 2016-12-28 2025-01-01 2021-09-20       1\n",
       "2  Shawn Sweeney  NaN     NaN 2016-12-28 2025-01-01 2021-09-27       1\n",
       "3  Shawn Sweeney  NaN     NaN 2016-12-28 2025-01-01 2021-10-04       1\n",
       "4  Shawn Sweeney  NaN     NaN 2016-12-28 2025-01-01 2021-10-11       1"
      ]
     },
     "execution_count": 16,
     "metadata": {},
     "output_type": "execute_result"
    }
   ],
   "source": [
    "empcounts2.head()"
   ]
  },
  {
   "cell_type": "code",
   "execution_count": null,
   "metadata": {},
   "outputs": [],
   "source": []
  }
 ],
 "metadata": {
  "kernelspec": {
   "display_name": "Python 3",
   "language": "python",
   "name": "python3"
  },
  "language_info": {
   "codemirror_mode": {
    "name": "ipython",
    "version": 3
   },
   "file_extension": ".py",
   "mimetype": "text/x-python",
   "name": "python",
   "nbconvert_exporter": "python",
   "pygments_lexer": "ipython3",
   "version": "3.8.5"
  },
  "varInspector": {
   "cols": {
    "lenName": 16,
    "lenType": 16,
    "lenVar": 40
   },
   "kernels_config": {
    "python": {
     "delete_cmd_postfix": "",
     "delete_cmd_prefix": "del ",
     "library": "var_list.py",
     "varRefreshCmd": "print(var_dic_list())"
    },
    "r": {
     "delete_cmd_postfix": ") ",
     "delete_cmd_prefix": "rm(",
     "library": "var_list.r",
     "varRefreshCmd": "cat(var_dic_list()) "
    }
   },
   "types_to_exclude": [
    "module",
    "function",
    "builtin_function_or_method",
    "instance",
    "_Feature"
   ],
   "window_display": false
  }
 },
 "nbformat": 4,
 "nbformat_minor": 4
}
