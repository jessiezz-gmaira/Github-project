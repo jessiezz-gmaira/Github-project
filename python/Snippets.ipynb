{
 "cells": [
  {
   "cell_type": "code",
   "execution_count": null,
   "id": "9ad74417",
   "metadata": {},
   "outputs": [],
   "source": [
    "# Conditional Argument\n",
    "x = 5 if 2 > 4 else 2\n",
    "print(x) # 2\n",
    "y = 10 if 32 > 41 else 24\n",
    "print(y) # 24"
   ]
  },
  {
   "cell_type": "code",
   "execution_count": null,
   "id": "3a4c8695",
   "metadata": {},
   "outputs": [],
   "source": [
    "# Simple HTTP SERVER\n",
    "import socketserver\n",
    "import http.server\n",
    "PORT = 8000\n",
    "handler = http.server.SimpleHTTPRequestHandler\n",
    "with socketserver.TCPServer((\"\", PORT), handler) as http:\n",
    "    print(\"Server Launch at Localhost: \" + str(PORT))\n",
    "    http.serve_forever()\n",
    "# Type in http://127.0.0.1:8000/ in your webbrowser"
   ]
  },
  {
   "cell_type": "code",
   "execution_count": null,
   "id": "fa34b0e3",
   "metadata": {},
   "outputs": [],
   "source": [
    "# One Liner Loop throught List\n",
    "mylist = [10, 11, 12, 13, 14]\n",
    "print([i * 2 for i in mylist]) # [20, 22, 24, 26, 28]\n",
    "print([i * 5 for i in mylist]) # [50, 55, 60, 65, 70]"
   ]
  },
  {
   "cell_type": "code",
   "execution_count": null,
   "id": "bc241559",
   "metadata": {},
   "outputs": [],
   "source": [
    "# Split Multi Lines String\n",
    "string = \"Data \\n is encrpted \\n by Python\"\n",
    "print(string)\n",
    "# Output\n",
    "# Data\n",
    "# is encrpted\n",
    "# by Python\n",
    "splited = string.split(\"\\n\")\n",
    "print(splited) # ['Data ', ' is encrpted ', ' by Python']"
   ]
  },
  {
   "cell_type": "code",
   "execution_count": null,
   "id": "fc772e2d",
   "metadata": {},
   "outputs": [],
   "source": [
    "# Track Frequency \n",
    "import collections\n",
    "def Track_Frequency(List):\n",
    "    return dict(collections.Counter(List))\n",
    "print(Track_Frequency([10, 10, 12, 12, 10, 13, 13, 14]))\n",
    "# Output\n",
    "# {10: 3, 12: 2, 13: 2, 14: 1}"
   ]
  },
  {
   "cell_type": "code",
   "execution_count": null,
   "id": "29d89125",
   "metadata": {},
   "outputs": [],
   "source": [
    "# Simple Class Creation\n",
    "class Employee:\n",
    "    def __init__(self, empID):\n",
    "        self.empID = empID\n",
    "        self.name = \"Haider\"\n",
    "        self.salary = 50000\n",
    "    \n",
    "    def getEmpData(self):\n",
    "        return self.name, self.salary\n",
    "emp = Employee(189345)\n",
    "print(emp.getEmpData()) # ('Haider', 50000)"
   ]
  },
  {
   "cell_type": "code",
   "execution_count": null,
   "id": "84cf8bc5",
   "metadata": {},
   "outputs": [],
   "source": [
    "# String Multiplier\n",
    "# Normal way \n",
    "for x in range(5):\n",
    "    print(\"C#\")\n",
    "    \n",
    "# Good way\n",
    "print(\"C# \"*5) # C# C# C# C# C#"
   ]
  },
  {
   "cell_type": "code",
   "execution_count": null,
   "id": "a878c4af",
   "metadata": {},
   "outputs": [],
   "source": [
    "# Digitizing\n",
    "integer = 234553\n",
    "digitz = [int(i) for i in str(integer)]\n",
    "print(digitz) # [2, 3, 4, 5, 5, 3]"
   ]
  },
  {
   "cell_type": "code",
   "execution_count": null,
   "id": "c35df4ef",
   "metadata": {},
   "outputs": [],
   "source": [
    "#For loop in One line\n",
    "mylist = [100, 200, 300, 400, 500]\n",
    "#Orignal way\n",
    "result = []\n",
    "for x in mylist:\n",
    "    if x > 250:\n",
    "        result.append(x)\n",
    "print(result) # [300, 400, 500]\n",
    "#One Line Way\n",
    "result = [x for x in mylist if x > 250]\n",
    "print(result) # [300, 400, 500]"
   ]
  },
  {
   "cell_type": "code",
   "execution_count": null,
   "id": "02bfdc7d",
   "metadata": {},
   "outputs": [],
   "source": [
    "#if Else in One Line\n",
    "#Example 1 if else\n",
    "print(\"Yes\") if 8 > 9 else print(\"No\")  # No\n",
    "#Example 2 if elif else\n",
    "E = 2\n",
    "print(\"High\") if E == 5 else print(\"Meidum\") if E == 2 else print(\"Low\") # Medium\n",
    " \n",
    "#Example 3 only if\n",
    "if 3 > 2: print(\"Exactly\") # Exactly"
   ]
  },
  {
   "cell_type": "code",
   "execution_count": null,
   "id": "e2d47ff3",
   "metadata": {},
   "outputs": [],
   "source": [
    "#Function in One Line\n",
    "#method 1\n",
    "def fun(x): return True if x % 2 == 0 else False\n",
    "print(fun(2)) # False\n",
    "#method 2\n",
    "fun = lambda x : x % 2 == 0 \n",
    "print(fun(2)) # True\n",
    "print(fun(3)) # False"
   ]
  },
  {
   "cell_type": "code",
   "execution_count": null,
   "id": "ca2b3bbb",
   "metadata": {},
   "outputs": [],
   "source": [
    "# Exception Handling in One Line\n",
    "#Original Way\n",
    "try:\n",
    "    print(x)\n",
    "except:\n",
    "    print(\"Error\")\n",
    "#One Line Way\n",
    "exec('try:print(x) \\nexcept:print(\"Error\")') # Error"
   ]
  },
  {
   "cell_type": "code",
   "execution_count": null,
   "id": "f47a49ee",
   "metadata": {},
   "outputs": [],
   "source": [
    "# Dictionary in One line\n",
    "mydict = [\"John\", \"Peter\", \"Mathew\", \"Tom\"]\n",
    "mydict = dict(enumerate(mydict))\n",
    "print(mydict) # {0: 'John', 1: 'Peter', 2: 'Mathew', 3: 'Tom'}"
   ]
  },
  {
   "cell_type": "code",
   "execution_count": null,
   "id": "22e68b30",
   "metadata": {},
   "outputs": [],
   "source": [
    "# Sort in One Line\n",
    "mylist = [32, 22, 11, 4, 6, 8, 12]\n",
    "# method 1\n",
    "mylist.sort()\n",
    "print(mylist) # # [4, 6, 8, 11, 12, 22, 32]\n",
    "print(sorted(mylist)) # [4, 6, 8, 11, 12, 22, 32]"
   ]
  },
  {
   "cell_type": "code",
   "execution_count": null,
   "id": "23430f9a",
   "metadata": {},
   "outputs": [],
   "source": [
    "#Map in One Line\n",
    "print(list(map(lambda a: a + 2, [5, 6, 7, 8, 9, 10])))\n",
    "#output\n",
    "# [7, 8, 9, 10, 11, 12]"
   ]
  },
  {
   "cell_type": "code",
   "execution_count": null,
   "id": "1f454c4a",
   "metadata": {},
   "outputs": [],
   "source": [
    "https://towardsdatascience.com/6-lesser-known-sql-techniques-to-save-you-100-hours-a-month-10ceed47d3fe\n",
    "Most recent uploaded data \n",
    "select a.*, a.[date] from {schema}.{table} a \n",
    "join (select max(date) maxDate from schema.table) b \n",
    "on a.date = b.maxDate\n",
    "\n",
    "select [key], sum([field]),  DATEADD(month, DATEDIFF(month, 0, [date field]), 0) as month from {schema}.{table} group by [key]\n",
    "select [key], sum([field]),  DATEADD(wk, DATEDIFF(wk, 6, [date]), 6) as weekBeginning from {schema}.{table} group by [key]\n",
    "\n",
    "import newdata to temp table\n",
    "delete dupes from temp table (already avail)\n",
    "append\n",
    "\n",
    "delete from {schema}.{target_table} where exists (select 1 from {schema}.{source_table} where {schema}.{source_table}.[key] = {schema}.{target_table}.[key])"
   ]
  },
  {
   "cell_type": "code",
   "execution_count": null,
   "id": "3ebf0eaf",
   "metadata": {},
   "outputs": [],
   "source": [
    "https://regex101.com/\n",
    "    https://devhints.io/python\n",
    "        \n",
    "        "
   ]
  },
  {
   "cell_type": "code",
   "execution_count": null,
   "id": "78d36baf",
   "metadata": {},
   "outputs": [],
   "source": [
    "# Columbus = USFederalHolidayCalendar().rules.index(\n",
    "#     [i for i in USFederalHolidayCalendar().rules if 'Columbus' in str(i)][0] )\n",
    "\n",
    "# class USFederalHolidayCalendar(USFederalHolidayCalendar):\n",
    "#     rules = USFederalHolidayCalendar(\n",
    "#     ).rules[:Columbus] + USFederalHolidayCalendar(\n",
    "#     ).rules[Columbus + 1:]\n",
    "\n",
    "# Veteran = USFederalHolidayCalendar().rules.index(\n",
    "#     [i for i in USFederalHolidayCalendar().rules if 'Veterans' in str(i)][0] )\n",
    "\n",
    "# class USFederalHolidayCalendar(USFederalHolidayCalendar):\n",
    "#     rules = USFederalHolidayCalendar(\n",
    "#     ).rules[:Veteran] + USFederalHolidayCalendar(\n",
    "#     ).rules[Veteran + 1:]\n",
    "\n",
    "\n",
    "cal2 = USFederalHolidayCalendar()\n",
    "# print(cal2.rules)"
   ]
  },
  {
   "cell_type": "code",
   "execution_count": null,
   "id": "72169d82",
   "metadata": {},
   "outputs": [],
   "source": []
  }
 ],
 "metadata": {
  "kernelspec": {
   "display_name": "Python 3 (ipykernel)",
   "language": "python",
   "name": "python3"
  },
  "language_info": {
   "codemirror_mode": {
    "name": "ipython",
    "version": 3
   },
   "file_extension": ".py",
   "mimetype": "text/x-python",
   "name": "python",
   "nbconvert_exporter": "python",
   "pygments_lexer": "ipython3",
   "version": "3.9.7"
  },
  "varInspector": {
   "cols": {
    "lenName": 16,
    "lenType": 16,
    "lenVar": 40
   },
   "kernels_config": {
    "python": {
     "delete_cmd_postfix": "",
     "delete_cmd_prefix": "del ",
     "library": "var_list.py",
     "varRefreshCmd": "print(var_dic_list())"
    },
    "r": {
     "delete_cmd_postfix": ") ",
     "delete_cmd_prefix": "rm(",
     "library": "var_list.r",
     "varRefreshCmd": "cat(var_dic_list()) "
    }
   },
   "types_to_exclude": [
    "module",
    "function",
    "builtin_function_or_method",
    "instance",
    "_Feature"
   ],
   "window_display": false
  }
 },
 "nbformat": 4,
 "nbformat_minor": 5
}
